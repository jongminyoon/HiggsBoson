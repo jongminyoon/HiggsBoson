{
 "cells": [
  {
   "cell_type": "code",
   "execution_count": 1,
   "metadata": {},
   "outputs": [],
   "source": [
    "include(\"../so5.jl\");\n",
    "include(\"../../eeff.jl\");"
   ]
  },
  {
   "cell_type": "code",
   "execution_count": 2,
   "metadata": {},
   "outputs": [],
   "source": [
    "d = Dict()\n",
    "d[\"kR\"] = [1,2,3,4,5,6]\n",
    "vf = [0.0001, 0.001, 0.01, 0.05, 0.1]\n",
    "d[\"minphi\"] = asin.(sqrt.(vf))/2\n",
    ";"
   ]
  },
  {
   "cell_type": "code",
   "execution_count": 3,
   "metadata": {},
   "outputs": [
    {
     "data": {
      "text/plain": [
       "0.6535284552845528"
      ]
     },
     "execution_count": 3,
     "metadata": {},
     "output_type": "execute_result"
    }
   ],
   "source": [
    "g"
   ]
  },
  {
   "cell_type": "code",
   "execution_count": 4,
   "metadata": {},
   "outputs": [
    {
     "data": {
      "text/plain": [
       "0.9217848675590008"
      ]
     },
     "execution_count": 4,
     "metadata": {},
     "output_type": "execute_result"
    }
   ],
   "source": [
    "g/2/4(sqrt(4*pi)/40)"
   ]
  },
  {
   "cell_type": "code",
   "execution_count": 5,
   "metadata": {},
   "outputs": [
    {
     "data": {
      "text/plain": [
       "4.605170185988091"
      ]
     },
     "execution_count": 5,
     "metadata": {},
     "output_type": "execute_result"
    }
   ],
   "source": [
    "kpir"
   ]
  },
  {
   "cell_type": "code",
   "execution_count": 6,
   "metadata": {},
   "outputs": [
    {
     "data": {
      "text/plain": [
       "0.9655413894858661"
      ]
     },
     "execution_count": 6,
     "metadata": {},
     "output_type": "execute_result"
    }
   ],
   "source": [
    "# minimum kR from S parameter < 0.3\n",
    "Sparam = 0.3\n",
    "aB = 30.\n",
    "sqrt(pi*vev^2/Sparam*(1.5-1/(kpir+30.)))"
   ]
  },
  {
   "cell_type": "code",
   "execution_count": 7,
   "metadata": {},
   "outputs": [
    {
     "data": {
      "text/plain": [
       "1.1825418648891233"
      ]
     },
     "execution_count": 7,
     "metadata": {},
     "output_type": "execute_result"
    }
   ],
   "source": [
    "Sparam = 0.2\n",
    "sqrt(pi*vev^2/Sparam*(1.5-1/(kpir+30.)))"
   ]
  },
  {
   "cell_type": "code",
   "execution_count": 8,
   "metadata": {},
   "outputs": [
    {
     "data": {
      "text/plain": [
       "1.6723667434001703"
      ]
     },
     "execution_count": 8,
     "metadata": {},
     "output_type": "execute_result"
    }
   ],
   "source": [
    "Sparam = 0.1\n",
    "sqrt(pi*vev^2/Sparam*(1.5-1/(kpir+30.)))"
   ]
  },
  {
   "cell_type": "code",
   "execution_count": 9,
   "metadata": {},
   "outputs": [],
   "source": [
    "aL_from_kR_minphi(kR, minphi) = 0.5*sin(2*minphi)^2*(2/(1-zratio^2))/(mw^2/kR^2) - kpir\n",
    ";"
   ]
  },
  {
   "cell_type": "code",
   "execution_count": 10,
   "metadata": {},
   "outputs": [
    {
     "data": {
      "text/plain": [
       "7×6 Array{Float64,2}:\n",
       " 0.0  0.0001     0.001      0.01       0.05       0.1   \n",
       " 1.0  0.0154776  0.154776   1.54776    7.73881   15.4776\n",
       " 2.0  0.0619105  0.619105   6.19105   30.9552    61.9105\n",
       " 3.0  0.139299   1.39299   13.9299    69.6493   139.299 \n",
       " 4.0  0.247642   2.47642   24.7642   123.821    247.642 \n",
       " 5.0  0.386941   3.86941   38.6941   193.47     386.941 \n",
       " 6.0  0.557194   5.57194   55.7194   278.597    557.194 "
      ]
     },
     "execution_count": 10,
     "metadata": {},
     "output_type": "execute_result"
    }
   ],
   "source": [
    "# bigger v^2/f^2 or kR, bigger blkt\n",
    "temp = [aL_from_kR_minphi(kR, minphi) for (kR, minphi) in Iterators.product(d[\"kR\"], d[\"minphi\"])]\n",
    "[0 vf'; d[\"kR\"] temp.+kpir]"
   ]
  },
  {
   "cell_type": "code",
   "execution_count": 11,
   "metadata": {},
   "outputs": [],
   "source": [
    "threshold_vf(kR) = kpir /(1/(1-zratio^2)) * (mw^2/kR^2)\n",
    ";"
   ]
  },
  {
   "cell_type": "code",
   "execution_count": 12,
   "metadata": {},
   "outputs": [
    {
     "data": {
      "text/plain": [
       "6-element Array{Float64,1}:\n",
       " 0.029753734235535186 \n",
       " 0.007438433558883796 \n",
       " 0.0033059704706150206\n",
       " 0.001859608389720949 \n",
       " 0.0011901493694214075\n",
       " 0.0008264926176537551"
      ]
     },
     "execution_count": 12,
     "metadata": {},
     "output_type": "execute_result"
    }
   ],
   "source": [
    "threshold_vf.(d[\"kR\"])"
   ]
  },
  {
   "cell_type": "code",
   "execution_count": 13,
   "metadata": {},
   "outputs": [],
   "source": [
    "z0_c_factor(c) = abs(c-0.5) < 1e-7 ? kpir : ((1/zratio)^(1-2*c)-1)/(1-2*c) # z0-normalized\n",
    "zR_c_factor(c) = abs(c-0.5) < 1e-7 ? kpir : (1-zratio^(1-2*c))/(1-2*c) # zR-normalized\n",
    "\n",
    "function find_at(ct, cb, beta, kR, angle_dependence)\n",
    "    term1 = angle_dependence * cos(beta)^2 / (mt/kR*zratio)^2 / z0_c_factor(-ct)\n",
    "    ans = term1 - sin(beta)^2*z0_c_factor(cb) - cos(beta)^2*z0_c_factor(ct)\n",
    "    # return ans < 0 ? 1e7 : ans\n",
    "    return ans\n",
    "end \n",
    "\n",
    "find_at5(ct, cb, beta, kR, minphi) = find_at(ct, cb, beta, kR, 0.5*sin(2*minphi)^2)\n",
    "find_at4(ct, cb, beta, kR, minphi) = find_at(ct, cb, beta, kR, sin(minphi)^2)\n",
    ";"
   ]
  },
  {
   "cell_type": "code",
   "execution_count": 14,
   "metadata": {},
   "outputs": [],
   "source": [
    "# bigger v^2/f^2 or kR, bigger blkt\n",
    "# bigger ct, bigger blkt\n",
    "# mostly independent on cb and beta"
   ]
  },
  {
   "cell_type": "code",
   "execution_count": 15,
   "metadata": {},
   "outputs": [
    {
     "data": {
      "text/plain": [
       "7×6 Array{Float64,2}:\n",
       " 0.0    0.0001    0.001     0.01        0.05      0.1  \n",
       " 1.0  -94.9502  -92.9222  -72.6424     17.49    130.156\n",
       " 2.0  -94.2742  -86.1623   -5.04311   355.487   806.149\n",
       " 3.0  -93.1476  -74.8958  107.622     918.814  1932.8  \n",
       " 4.0  -91.5703  -59.1226  265.354    1707.47   3510.12 \n",
       " 5.0  -89.5423  -38.8428  468.152    2721.46   5538.1  \n",
       " 6.0  -87.0636  -14.0564  716.016    3960.78   8016.74 "
      ]
     },
     "execution_count": 15,
     "metadata": {},
     "output_type": "execute_result"
    }
   ],
   "source": [
    "ct = 0.; cb = 0.7; beta = 0.2;\n",
    "temp = [find_at5(ct, cb, beta, kR, minphi) for (kR, minphi) in Iterators.product(d[\"kR\"], d[\"minphi\"])]\n",
    "[0 vf'; d[\"kR\"] temp]"
   ]
  },
  {
   "cell_type": "code",
   "execution_count": 16,
   "metadata": {},
   "outputs": [
    {
     "data": {
      "text/plain": [
       "7×6 Array{Float64,2}:\n",
       " 0.0    0.0001    0.001      0.01       0.05       0.1    \n",
       " 1.0  -12.8105  -12.6077   -10.5796    -1.56574    9.70158\n",
       " 2.0  -12.7429  -11.9317    -3.8192    32.2362    77.3055 \n",
       " 3.0  -12.6302  -10.8049     7.44811   88.5728   189.979  \n",
       " 4.0  -12.4725   -9.22751   23.2224   167.444    347.721  \n",
       " 5.0  -12.2697   -7.1994    43.5035   268.85     550.533  \n",
       " 6.0  -12.0218   -4.72059   68.2916   392.79     798.414  "
      ]
     },
     "execution_count": 16,
     "metadata": {},
     "output_type": "execute_result"
    }
   ],
   "source": [
    "ct = 0.3; cb = 0.7; beta = 0.2;\n",
    "temp = [find_at5(ct, cb, beta, kR, minphi) for (kR, minphi) in Iterators.product(d[\"kR\"], d[\"minphi\"])]\n",
    "[0 vf'; d[\"kR\"] temp]"
   ]
  },
  {
   "cell_type": "code",
   "execution_count": 17,
   "metadata": {},
   "outputs": [
    {
     "data": {
      "text/plain": [
       "7×6 Array{Float64,2}:\n",
       " 0.0   0.0001    0.001     0.01        0.05       0.1    \n",
       " 1.0  -2.10293  -2.09529  -2.01892    -1.6795    -1.25523\n",
       " 2.0  -2.10038  -2.06983  -1.76436    -0.406688   1.2904 \n",
       " 3.0  -2.09614  -2.02741  -1.34009     1.71467    5.53312\n",
       " 4.0  -2.0902   -1.96801  -0.746106    4.68458   11.4729 \n",
       " 5.0  -2.08256  -1.89164   0.0175838   8.50303   19.1098 \n",
       " 6.0  -2.07323  -1.7983    0.950982   13.17      28.4438 "
      ]
     },
     "execution_count": 17,
     "metadata": {},
     "output_type": "execute_result"
    }
   ],
   "source": [
    "ct = 0.7; cb = 0.7; beta = 0.2;\n",
    "temp = [find_at5(ct, cb, beta, kR, minphi) for (kR, minphi) in Iterators.product(d[\"kR\"], d[\"minphi\"])]\n",
    "[0 vf'; d[\"kR\"] temp]"
   ]
  },
  {
   "cell_type": "code",
   "execution_count": 18,
   "metadata": {},
   "outputs": [],
   "source": [
    "threshold_vf_ct(ct, kR) = 2*mt^2/kR^2*zR_c_factor(ct)*zR_c_factor(-ct)\n",
    ";"
   ]
  },
  {
   "cell_type": "code",
   "execution_count": 19,
   "metadata": {},
   "outputs": [
    {
     "data": {
      "text/plain": [
       "11-element Array{Float64,1}:\n",
       " 0.04220123820358211 \n",
       " 0.043551471146318854\n",
       " 0.04794925657876184 \n",
       " 0.056579662840499444\n",
       " 0.07197180083822681 \n",
       " 0.09913501152868037 \n",
       " 0.14794626561907565 \n",
       " 0.23814217769469884 \n",
       " 0.4098478696360661  \n",
       " 0.7460318376703262  \n",
       " 1.4209156903146096  "
      ]
     },
     "execution_count": 19,
     "metadata": {},
     "output_type": "execute_result"
    }
   ],
   "source": [
    "threshold_vf_ct.(0:0.1:1, 1)"
   ]
  },
  {
   "cell_type": "code",
   "execution_count": 20,
   "metadata": {},
   "outputs": [
    {
     "data": {
      "text/plain": [
       "6×7 Array{Float64,2}:\n",
       " 1.0  0.0297537    0.0  0.0422012   0.051618    0.099135    0.310015  \n",
       " 2.0  0.00743843   0.0  0.0105503   0.0129045   0.0247838   0.0775038 \n",
       " 3.0  0.00330597   0.0  0.00468903  0.00573534  0.011015    0.0344461 \n",
       " 4.0  0.00185961   0.0  0.00263758  0.00322613  0.00619594  0.0193759 \n",
       " 5.0  0.00119015   0.0  0.00168805  0.00206472  0.0039654   0.0124006 \n",
       " 6.0  0.000826493  0.0  0.00117226  0.00143383  0.00275375  0.00861153"
      ]
     },
     "execution_count": 20,
     "metadata": {},
     "output_type": "execute_result"
    }
   ],
   "source": [
    "[d[\"kR\"] threshold_vf.(d[\"kR\"]) zeros(size(d[\"kR\"])) [threshold_vf_ct(ct, kR) for (kR, ct) in Iterators.product(d[\"kR\"], 0.:0.25:0.75)]]"
   ]
  },
  {
   "cell_type": "code",
   "execution_count": 21,
   "metadata": {},
   "outputs": [],
   "source": [
    "# lower bound of v^2/f^2 for positive blkt at a given kR is always larger for top quark blkt"
   ]
  },
  {
   "cell_type": "code",
   "execution_count": null,
   "metadata": {},
   "outputs": [],
   "source": []
  },
  {
   "cell_type": "code",
   "execution_count": 22,
   "metadata": {},
   "outputs": [],
   "source": [
    "# independent on cb, beta"
   ]
  },
  {
   "cell_type": "code",
   "execution_count": 23,
   "metadata": {},
   "outputs": [
    {
     "data": {
      "text/plain": [
       "7×6 Array{Float64,2}:\n",
       " 0.0    0.0001    0.001      0.01       0.05       0.1   \n",
       " 1.0  -13.2514  -13.0486   -11.0205    -2.00662    9.2607\n",
       " 2.0  -13.1838  -12.3725    -4.26008   31.7953    76.8646\n",
       " 3.0  -13.0711  -11.2458     7.00723   88.1319   189.538 \n",
       " 4.0  -12.9134   -9.66839   22.7815   167.003    347.28  \n",
       " 5.0  -12.7106   -7.64028   43.0626   268.409    550.092 \n",
       " 6.0  -12.4627   -5.16147   67.8507   392.349    797.973 "
      ]
     },
     "execution_count": 23,
     "metadata": {},
     "output_type": "execute_result"
    }
   ],
   "source": [
    "ct = 0.3; cb = 0.3; beta = 0.2;\n",
    "temp = [find_at5(ct, cb, beta, kR, minphi) for (kR, minphi) in Iterators.product(d[\"kR\"], d[\"minphi\"])]\n",
    "[0 vf'; d[\"kR\"] temp]"
   ]
  },
  {
   "cell_type": "code",
   "execution_count": 24,
   "metadata": {},
   "outputs": [
    {
     "data": {
      "text/plain": [
       "7×6 Array{Float64,2}:\n",
       " 0.0    0.0001    0.001      0.01       0.05       0.1    \n",
       " 1.0  -12.8105  -12.6077   -10.5796    -1.56574    9.70158\n",
       " 2.0  -12.7429  -11.9317    -3.8192    32.2362    77.3055 \n",
       " 3.0  -12.6302  -10.8049     7.44811   88.5728   189.979  \n",
       " 4.0  -12.4725   -9.22751   23.2224   167.444    347.721  \n",
       " 5.0  -12.2697   -7.1994    43.5035   268.85     550.533  \n",
       " 6.0  -12.0218   -4.72059   68.2916   392.79     798.414  "
      ]
     },
     "execution_count": 24,
     "metadata": {},
     "output_type": "execute_result"
    }
   ],
   "source": [
    "ct = 0.3; cb = 0.7; beta = 0.2;\n",
    "temp = [find_at5(ct, cb, beta, kR, minphi) for (kR, minphi) in Iterators.product(d[\"kR\"], d[\"minphi\"])]\n",
    "[0 vf'; d[\"kR\"] temp]"
   ]
  },
  {
   "cell_type": "code",
   "execution_count": 25,
   "metadata": {},
   "outputs": [
    {
     "data": {
      "text/plain": [
       "7×6 Array{Float64,2}:\n",
       " 0.0    0.0001    0.001      0.01       0.05       0.1    \n",
       " 1.0  -12.7439  -12.5411   -10.513     -1.49915    9.76817\n",
       " 2.0  -12.6763  -11.8651    -3.75261   32.3028    77.3721 \n",
       " 3.0  -12.5637  -10.7383     7.5147    88.6394   190.045  \n",
       " 4.0  -12.4059   -9.16092   23.2889   167.511    347.788  \n",
       " 5.0  -12.2031   -7.13281   43.5701   268.916    550.599  \n",
       " 6.0  -11.9552   -4.654     68.3582   392.857    798.48   "
      ]
     },
     "execution_count": 25,
     "metadata": {},
     "output_type": "execute_result"
    }
   ],
   "source": [
    "ct = 0.3; cb = 1.7; beta = 0.2;\n",
    "temp = [find_at5(ct, cb, beta, kR, minphi) for (kR, minphi) in Iterators.product(d[\"kR\"], d[\"minphi\"])]\n",
    "[0 vf'; d[\"kR\"] temp]"
   ]
  },
  {
   "cell_type": "code",
   "execution_count": null,
   "metadata": {},
   "outputs": [],
   "source": []
  },
  {
   "cell_type": "code",
   "execution_count": null,
   "metadata": {},
   "outputs": [],
   "source": []
  },
  {
   "cell_type": "code",
   "execution_count": 26,
   "metadata": {},
   "outputs": [
    {
     "data": {
      "text/plain": [
       "7×6 Array{Float64,2}:\n",
       " 0.0    0.0001    0.001      0.01       0.05       0.1   \n",
       " 1.0  -13.2505  -13.0393   -10.9279    -1.54363   10.1867\n",
       " 2.0  -13.1801  -12.3355    -3.88969   33.6473    80.5685\n",
       " 3.0  -13.0628  -11.1625     7.84061   92.2988   197.872 \n",
       " 4.0  -12.8986   -9.52024   24.263    174.411    362.096 \n",
       " 5.0  -12.6874   -7.40878   45.3776   279.984    573.241 \n",
       " 6.0  -12.4294   -4.82811   71.1843   409.017    831.308 "
      ]
     },
     "execution_count": 26,
     "metadata": {},
     "output_type": "execute_result"
    }
   ],
   "source": [
    "ct = 0.3; cb = 1.; beta = 0;\n",
    "temp = [find_at5(ct, cb, beta, kR, minphi) for (kR, minphi) in Iterators.product(d[\"kR\"], d[\"minphi\"])]\n",
    "[0 vf'; d[\"kR\"] temp]"
   ]
  },
  {
   "cell_type": "code",
   "execution_count": 27,
   "metadata": {},
   "outputs": [
    {
     "data": {
      "text/plain": [
       "7×6 Array{Float64,2}:\n",
       " 0.0    0.0001    0.001      0.01       0.05       0.1   \n",
       " 1.0  -13.1283  -12.9192   -10.8288    -1.53811   10.0753\n",
       " 2.0  -13.0586  -12.2224    -3.86079   33.3021    79.7556\n",
       " 3.0  -12.9425  -11.0611     7.7526    91.369    195.89  \n",
       " 4.0  -12.7799   -9.43522   24.0114   172.663    358.477 \n",
       " 5.0  -12.5708   -7.34481   44.9155   277.183    567.518 \n",
       " 6.0  -12.3153   -4.78986   70.4649   404.931    823.013 "
      ]
     },
     "execution_count": 27,
     "metadata": {},
     "output_type": "execute_result"
    }
   ],
   "source": [
    "ct = 0.3; cb = 1.; beta = 0.1;\n",
    "temp = [find_at5(ct, cb, beta, kR, minphi) for (kR, minphi) in Iterators.product(d[\"kR\"], d[\"minphi\"])]\n",
    "[0 vf'; d[\"kR\"] temp]"
   ]
  },
  {
   "cell_type": "code",
   "execution_count": 28,
   "metadata": {},
   "outputs": [
    {
     "data": {
      "text/plain": [
       "7×6 Array{Float64,2}:\n",
       " 0.0    0.0001    0.001      0.01       0.05       0.1    \n",
       " 1.0  -12.7666  -12.5637   -10.5356    -1.52178    9.74554\n",
       " 2.0  -12.699   -11.8877    -3.77524   32.2802    77.3494 \n",
       " 3.0  -12.5863  -10.761      7.49207   88.6167   190.023  \n",
       " 4.0  -12.4285   -9.18355   23.2663   167.488    347.765  \n",
       " 5.0  -12.2257   -7.15544   43.5475   268.894    550.577  \n",
       " 6.0  -11.9778   -4.67663   68.3356   392.834    798.458  "
      ]
     },
     "execution_count": 28,
     "metadata": {},
     "output_type": "execute_result"
    }
   ],
   "source": [
    "ct = 0.3; cb = 1.; beta = 0.2;\n",
    "temp = [find_at5(ct, cb, beta, kR, minphi) for (kR, minphi) in Iterators.product(d[\"kR\"], d[\"minphi\"])]\n",
    "[0 vf'; d[\"kR\"] temp]"
   ]
  },
  {
   "cell_type": "code",
   "execution_count": 29,
   "metadata": {},
   "outputs": [
    {
     "data": {
      "text/plain": [
       "7×6 Array{Float64,2}:\n",
       " 0.0    0.0001    0.001      0.01       0.05       0.1    \n",
       " 1.0  -12.1797  -11.987    -10.06      -1.49528    9.21059\n",
       " 2.0  -12.1155  -11.3447    -3.63645   30.6223    73.4458 \n",
       " 3.0  -12.0084  -10.2741     7.06942   84.1517   180.505  \n",
       " 4.0  -11.8586   -8.77527   22.0576   159.093    330.387  \n",
       " 5.0  -11.6659   -6.84822   41.3282   255.446    523.092  \n",
       " 6.0  -11.4303   -4.49292   64.8811   373.21     758.622  "
      ]
     },
     "execution_count": 29,
     "metadata": {},
     "output_type": "execute_result"
    }
   ],
   "source": [
    "ct = 0.3; cb = 1.; beta = 0.3;\n",
    "temp = [find_at5(ct, cb, beta, kR, minphi) for (kR, minphi) in Iterators.product(d[\"kR\"], d[\"minphi\"])]\n",
    "[0 vf'; d[\"kR\"] temp]"
   ]
  },
  {
   "cell_type": "code",
   "execution_count": null,
   "metadata": {},
   "outputs": [],
   "source": []
  },
  {
   "cell_type": "code",
   "execution_count": null,
   "metadata": {},
   "outputs": [],
   "source": []
  },
  {
   "cell_type": "code",
   "execution_count": null,
   "metadata": {},
   "outputs": [],
   "source": []
  },
  {
   "cell_type": "code",
   "execution_count": null,
   "metadata": {},
   "outputs": [],
   "source": []
  },
  {
   "cell_type": "code",
   "execution_count": 30,
   "metadata": {},
   "outputs": [],
   "source": [
    "# for 4 of SO(5)"
   ]
  },
  {
   "cell_type": "code",
   "execution_count": 31,
   "metadata": {},
   "outputs": [],
   "source": [
    "# smaller blkt for the same minphi, kR, ct"
   ]
  },
  {
   "cell_type": "code",
   "execution_count": 32,
   "metadata": {},
   "outputs": [
    {
     "data": {
      "text/plain": [
       "7×6 Array{Float64,2}:\n",
       " 0.0    0.0001    0.001     0.01        0.05       0.1   \n",
       " 1.0  -95.0629  -94.0486  -83.8807    -38.1204    20.4569\n",
       " 2.0  -94.7249  -90.6678  -49.9961    133.045    367.354 \n",
       " 3.0  -94.1615  -85.0331    6.47822   418.32     945.517 \n",
       " 4.0  -93.3729  -77.1446   85.5423    817.706   1754.94  \n",
       " 5.0  -92.3588  -67.0021  187.196    1331.2     2795.64  \n",
       " 6.0  -91.1195  -54.6058  311.44     1958.81    4067.59  "
      ]
     },
     "execution_count": 32,
     "metadata": {},
     "output_type": "execute_result"
    }
   ],
   "source": [
    "ct = 0.; cb = 0.7; beta = 0.2;\n",
    "temp = [find_at4(ct, cb, beta, kR, minphi) for (kR, minphi) in Iterators.product(d[\"kR\"], d[\"minphi\"])]\n",
    "[0 vf'; d[\"kR\"] temp]"
   ]
  },
  {
   "cell_type": "code",
   "execution_count": 33,
   "metadata": {},
   "outputs": [
    {
     "data": {
      "text/plain": [
       "7×6 Array{Float64,2}:\n",
       " 0.0    0.0001    0.001     0.01       0.05       0.1    \n",
       " 1.0  -12.8218  -12.7204  -11.7035    -7.12716   -1.26902\n",
       " 2.0  -12.788   -12.3822   -8.3148     9.99053   33.4231 \n",
       " 3.0  -12.7316  -11.8187   -2.66699   38.52      91.2432 \n",
       " 4.0  -12.6528  -11.0298    5.23995   78.4613   172.191  \n",
       " 5.0  -12.5514  -10.0155   15.406    129.814    276.268  \n",
       " 6.0  -12.4274   -8.7758   27.8312   192.579    403.472  "
      ]
     },
     "execution_count": 33,
     "metadata": {},
     "output_type": "execute_result"
    }
   ],
   "source": [
    "ct = 0.3; cb = 0.7; beta = 0.2;\n",
    "temp = [find_at4(ct, cb, beta, kR, minphi) for (kR, minphi) in Iterators.product(d[\"kR\"], d[\"minphi\"])]\n",
    "[0 vf'; d[\"kR\"] temp]"
   ]
  },
  {
   "cell_type": "code",
   "execution_count": 34,
   "metadata": {},
   "outputs": [
    {
     "data": {
      "text/plain": [
       "7×6 Array{Float64,2}:\n",
       " 0.0   0.0001    0.001     0.01       0.05       0.1     \n",
       " 1.0  -2.10335  -2.09953  -2.06124   -1.88892   -1.66833 \n",
       " 2.0  -2.10208  -2.0868   -1.93364   -1.24435   -0.361997\n",
       " 3.0  -2.09996  -2.06558  -1.72097   -0.170071   1.81523 \n",
       " 4.0  -2.09699  -2.03588  -1.42324    1.33392    4.86334 \n",
       " 5.0  -2.09317  -1.99768  -1.04043    3.26763    8.78235 \n",
       " 6.0  -2.0885   -1.951    -0.572559   5.63105   13.5722  "
      ]
     },
     "execution_count": 34,
     "metadata": {},
     "output_type": "execute_result"
    }
   ],
   "source": [
    "ct = 0.7; cb = 0.7; beta = 0.2;\n",
    "temp = [find_at4(ct, cb, beta, kR, minphi) for (kR, minphi) in Iterators.product(d[\"kR\"], d[\"minphi\"])]\n",
    "[0 vf'; d[\"kR\"] temp]"
   ]
  },
  {
   "cell_type": "code",
   "execution_count": 35,
   "metadata": {},
   "outputs": [],
   "source": [
    "threshold_vf_ct4(ct, kR) = sin(2*asin(sqrt(mt^2/kR^2*zR_c_factor(ct)*zR_c_factor(-ct))))^2\n",
    ";"
   ]
  },
  {
   "cell_type": "code",
   "execution_count": 36,
   "metadata": {},
   "outputs": [
    {
     "data": {
      "text/plain": [
       "11×2 Array{Float64,2}:\n",
       " 0.0422012  0.0826215\n",
       " 0.0435515  0.0852062\n",
       " 0.0479493  0.0935994\n",
       " 0.0565797  0.109958 \n",
       " 0.0719718  0.138764 \n",
       " 0.099135   0.188442 \n",
       " 0.147946   0.274004 \n",
       " 0.238142   0.419573 \n",
       " 0.409848   0.65172  \n",
       " 0.746032   0.9355   \n",
       " 1.42092    0.82283  "
      ]
     },
     "execution_count": 36,
     "metadata": {},
     "output_type": "execute_result"
    }
   ],
   "source": [
    "[threshold_vf_ct.(0:0.1:1, 1) threshold_vf_ct4.(0:0.1:1, 1)]"
   ]
  },
  {
   "cell_type": "code",
   "execution_count": 37,
   "metadata": {},
   "outputs": [
    {
     "data": {
      "text/plain": [
       "6×7 Array{Float64,2}:\n",
       " 1.0  0.0297537    0.0  0.0935994   0.138764    0.274004    0.65172  \n",
       " 2.0  0.00743843   0.0  0.0238309   0.0356622   0.0726051   0.194425 \n",
       " 3.0  0.00330597   0.0  0.010627    0.0159298   0.0326067   0.0890035\n",
       " 4.0  0.00185961   0.0  0.00598468  0.00897624  0.0184078   0.0505748\n",
       " 5.0  0.00119015   0.0  0.00383226  0.00574946  0.0118007   0.0325191\n",
       " 6.0  0.000826493  0.0  0.00266207  0.00399444  0.00820235  0.0226397"
      ]
     },
     "execution_count": 37,
     "metadata": {},
     "output_type": "execute_result"
    }
   ],
   "source": [
    "[d[\"kR\"] threshold_vf.(d[\"kR\"]) zero(d[\"kR\"]) [threshold_vf_ct4(ct, kR) for (kR, ct) in Iterators.product(d[\"kR\"],  0.2:0.2:0.8)]]"
   ]
  },
  {
   "cell_type": "code",
   "execution_count": 38,
   "metadata": {},
   "outputs": [
    {
     "data": {
      "text/plain": [
       "6×7 Array{Float64,2}:\n",
       " 1.0  0.0297537    0.0  0.0479493   0.0719718   0.147946    0.409848 \n",
       " 2.0  0.00743843   0.0  0.0119873   0.017993    0.0369866   0.102462 \n",
       " 3.0  0.00330597   0.0  0.0053277   0.00799687  0.0164385   0.0455387\n",
       " 4.0  0.00185961   0.0  0.00299683  0.00449824  0.00924664  0.0256155\n",
       " 5.0  0.00119015   0.0  0.00191797  0.00287887  0.00591785  0.0163939\n",
       " 6.0  0.000826493  0.0  0.00133192  0.00199922  0.00410962  0.0113847"
      ]
     },
     "execution_count": 38,
     "metadata": {},
     "output_type": "execute_result"
    }
   ],
   "source": [
    "[d[\"kR\"] threshold_vf.(d[\"kR\"]) zero(d[\"kR\"]) [threshold_vf_ct(ct, kR) for (kR, ct) in Iterators.product(d[\"kR\"],  0.2:0.2:0.8)]]"
   ]
  },
  {
   "cell_type": "code",
   "execution_count": null,
   "metadata": {},
   "outputs": [],
   "source": []
  },
  {
   "cell_type": "code",
   "execution_count": null,
   "metadata": {},
   "outputs": [],
   "source": []
  }
 ],
 "metadata": {
  "kernelspec": {
   "display_name": "Julia 1.0.3",
   "language": "julia",
   "name": "julia-1.0"
  },
  "language_info": {
   "file_extension": ".jl",
   "mimetype": "application/julia",
   "name": "julia",
   "version": "1.0.3"
  }
 },
 "nbformat": 4,
 "nbformat_minor": 2
}
