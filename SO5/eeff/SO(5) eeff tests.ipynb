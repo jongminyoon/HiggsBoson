{
 "cells": [
  {
   "cell_type": "code",
   "execution_count": 1,
   "metadata": {},
   "outputs": [
    {
     "name": "stdout",
     "output_type": "stream",
     "text": [
      "nprocs() = 4\n"
     ]
    }
   ],
   "source": [
    "using Distributed\n",
    "n_add = 4 - nprocs()\n",
    "addprocs(n_add)\n",
    "@show nprocs()\n",
    ";"
   ]
  },
  {
   "cell_type": "markdown",
   "metadata": {},
   "source": [
    "### Compare with the Mathematica code"
   ]
  },
  {
   "cell_type": "code",
   "execution_count": 2,
   "metadata": {},
   "outputs": [
    {
     "name": "stdout",
     "output_type": "stream",
     "text": [
      "      From worker 2:\tWARNING: using SpecialFunctions.beta in module Main conflicts with an existing identifier.\n",
      "      From worker 4:\tWARNING: using SpecialFunctions.beta in module Main conflicts with an existing identifier.\n",
      "      From worker 3:\tWARNING: using SpecialFunctions.beta in module Main conflicts with an existing identifier.\n"
     ]
    },
    {
     "name": "stderr",
     "output_type": "stream",
     "text": [
      "WARNING: using SpecialFunctions.beta in module Main conflicts with an existing identifier.\n"
     ]
    }
   ],
   "source": [
    "@everywhere begin\n",
    "\n",
    "d = Dict()\n",
    "d[\"p\"] = [0.001, 0.25, 0.5, 0.75, 1.]\n",
    "    \n",
    "beta = asin(0.2)\n",
    "d[\"ct\"] = [0.3, 0.45, 0.7]\n",
    "\n",
    "include(\"so5_eeff.jl\");\n",
    "end\n",
    ";"
   ]
  },
  {
   "cell_type": "code",
   "execution_count": 3,
   "metadata": {},
   "outputs": [],
   "source": [
    "kR = 3.47; minphi = 0.135;"
   ]
  },
  {
   "cell_type": "code",
   "execution_count": 4,
   "metadata": {},
   "outputs": [
    {
     "data": {
      "text/plain": [
       "3-element Array{Array{Float64,1},1}:\n",
       " [0.031728, 0.106578, 0.0989765, 0.0979195, 0.0977748]\n",
       " [0.031728, 0.106563, 0.0989199, 0.0977931, 0.0975498]\n",
       " [0.031728, 0.106543, 0.0988462, 0.0976289, 0.0972574]"
      ]
     },
     "execution_count": 4,
     "metadata": {},
     "output_type": "execute_result"
    }
   ],
   "source": [
    "# bL5 with pure zero mode\n",
    "purebL5(args, kR, minphi) = pure_zeromode(args[\"c\"], [-1/2, -1/2, 0, 2/3], 0., kR, minphi)\n",
    "[[rs_eeff(p, kR, minphi, eL5, purebL5, 0., Dict(\"c\"=>c)) for p in d[\"p\"]] for c in d[\"ct\"]]"
   ]
  },
  {
   "cell_type": "code",
   "execution_count": 5,
   "metadata": {},
   "outputs": [
    {
     "data": {
      "text/plain": [
       "3-element Array{Array{Float64,1},1}:\n",
       " [-8.84638e-6, 0.120774, 0.367074, 0.78449, 1.377]     \n",
       " [-9.29347e-6, 0.0921357, 0.252199, 0.524504, 0.910913]\n",
       " [-9.86075e-6, 0.0548762, 0.10295, 0.187103, 0.306897] "
      ]
     },
     "execution_count": 5,
     "metadata": {},
     "output_type": "execute_result"
    }
   ],
   "source": [
    "[[dev_eeff(\"eL\",\"bL\", p, kR, minphi, eL5, purebL5, 0., Dict(\"c\"=>c)) for p in d[\"p\"]] for c in d[\"ct\"]]"
   ]
  },
  {
   "cell_type": "code",
   "execution_count": 6,
   "metadata": {},
   "outputs": [
    {
     "data": {
      "text/plain": [
       "3-element Array{Float64,1}:\n",
       " 0.885706354177475 \n",
       " 1.0276900214776994\n",
       " 1.2682160920462606"
      ]
     },
     "execution_count": 6,
     "metadata": {},
     "output_type": "execute_result"
    }
   ],
   "source": [
    "cb = find_cb.(d[\"ct\"], beta)"
   ]
  },
  {
   "cell_type": "code",
   "execution_count": 7,
   "metadata": {},
   "outputs": [
    {
     "data": {
      "text/plain": [
       "3-element Array{Array{Float64,1},1}:\n",
       " [0.0317372, 0.0186996, 0.0201126, 0.0204417, 0.0206715]\n",
       " [0.0317372, 0.0187001, 0.0201146, 0.0204463, 0.0206798]\n",
       " [0.0317372, 0.0187007, 0.0201174, 0.0204525, 0.020691] "
      ]
     },
     "execution_count": 7,
     "metadata": {},
     "output_type": "execute_result"
    }
   ],
   "source": [
    "# bR5 with pure zero mode\n",
    "purebR5(args, kR, minphi) = pure_zeromode(-args[\"c\"], [0, 0, 0, -1/3], 0., kR, minphi)\n",
    "[[rs_eeff(p, kR, minphi, eL5, purebR5, 0., Dict(\"c\"=>c)) for p in d[\"p\"]] for c in cb]"
   ]
  },
  {
   "cell_type": "code",
   "execution_count": 8,
   "metadata": {},
   "outputs": [
    {
     "data": {
      "text/plain": [
       "3-element Array{Array{Float64,1},1}:\n",
       " [5.10748e-6, 0.174866, 0.821697, 1.90179, 3.43955]\n",
       " [5.1856e-6, 0.179854, 0.841779, 1.94747, 3.52201] \n",
       " [5.29384e-6, 0.186618, 0.86902, 2.00945, 3.63394] "
      ]
     },
     "execution_count": 8,
     "metadata": {},
     "output_type": "execute_result"
    }
   ],
   "source": [
    "[[dev_eeff(\"eL\",\"bR\", p, kR, minphi, eL5, purebR5, 0., Dict(\"c\"=>c)) for p in d[\"p\"]] for c in cb]"
   ]
  },
  {
   "cell_type": "code",
   "execution_count": 9,
   "metadata": {},
   "outputs": [],
   "source": [
    "@everywhere function eebbR5(ct, beta, plist, kR, minphi)\n",
    "    args = Dict(\"ct\"=>ct, \"cb\"=>find_cb(ct,beta), \"beta\"=>beta)\n",
    "    return [dev_eeff(\"eL\",\"bR\", p, kR, minphi, eL5, bR5, 0., args) for p in plist]\n",
    "end\n",
    ";"
   ]
  },
  {
   "cell_type": "code",
   "execution_count": 10,
   "metadata": {},
   "outputs": [
    {
     "name": "stdout",
     "output_type": "stream",
     "text": [
      "365.527445 seconds (3.95 M allocations: 199.697 MiB, 0.02% gc time)\n"
     ]
    },
    {
     "data": {
      "text/plain": [
       "3-element Array{Array{Float64,1},1}:\n",
       " [5.10748e-6, 0.174866, 0.821697, 1.90179, 3.43955]\n",
       " [5.1856e-6, 0.179854, 0.841779, 1.94747, 3.52201] \n",
       " [5.29384e-6, 0.186618, 0.86902, 2.00945, 3.63394] "
      ]
     },
     "execution_count": 10,
     "metadata": {},
     "output_type": "execute_result"
    }
   ],
   "source": [
    "@time temp_rotated = pmap(idx -> eebbR5(d[\"ct\"][idx], beta, d[\"p\"], kR, minphi), 1:length(d[\"ct\"]))"
   ]
  },
  {
   "cell_type": "code",
   "execution_count": 11,
   "metadata": {},
   "outputs": [
    {
     "name": "stdout",
     "output_type": "stream",
     "text": [
      "279.698469 seconds (641.54 M allocations: 49.662 GiB, 6.30% gc time)\n"
     ]
    },
    {
     "data": {
      "text/plain": [
       "3-element Array{Array{Float64,1},1}:\n",
       " [5.10748e-6, 0.174866, 0.821697, 1.90179, 3.43955]\n",
       " [5.1856e-6, 0.179854, 0.841779, 1.94747, 3.52201] \n",
       " [5.29384e-6, 0.186618, 0.86902, 2.00945, 3.63394] "
      ]
     },
     "execution_count": 11,
     "metadata": {},
     "output_type": "execute_result"
    }
   ],
   "source": [
    "@time temp_rotated = map(idx -> eebbR5(d[\"ct\"][idx], beta, d[\"p\"], kR, minphi), 1:length(d[\"ct\"]))"
   ]
  },
  {
   "cell_type": "code",
   "execution_count": null,
   "metadata": {},
   "outputs": [],
   "source": []
  },
  {
   "cell_type": "code",
   "execution_count": null,
   "metadata": {},
   "outputs": [],
   "source": []
  },
  {
   "cell_type": "markdown",
   "metadata": {},
   "source": [
    "### Compare ee -> zero mode ff between full code and approximation"
   ]
  },
  {
   "cell_type": "code",
   "execution_count": 12,
   "metadata": {},
   "outputs": [],
   "source": [
    "@everywhere begin\n",
    "\n",
    "d = Dict()\n",
    "d[\"p\"] = [0.001, 0.25, 0.5, 0.75, 1.]\n",
    "    \n",
    "beta = asin(0.2)\n",
    "d[\"ct\"] = [0.1, 0.3, 0.5, 0.7, 0.9]\n",
    "\n",
    "include(\"so5_eeff.jl\");\n",
    "end\n",
    ";"
   ]
  },
  {
   "cell_type": "code",
   "execution_count": 13,
   "metadata": {},
   "outputs": [],
   "source": [
    "kR = 3.; minphi = 0.05;"
   ]
  },
  {
   "cell_type": "code",
   "execution_count": 14,
   "metadata": {},
   "outputs": [],
   "source": [
    "# bR as pure RH zero-mode"
   ]
  },
  {
   "cell_type": "code",
   "execution_count": 15,
   "metadata": {},
   "outputs": [],
   "source": [
    "@everywhere function eebbR5(ct, beta, plist, kR, minphi)\n",
    "    args = Dict(\"ct\"=>ct, \"cb\"=>find_cb(ct,beta), \"beta\"=>beta)\n",
    "    return [dev_eeff(\"eL\", \"bR\", p, kR, minphi, eL5, bR5, 0., args) for p in plist]\n",
    "end\n",
    "\n",
    "function approx_eebbR5(ct, beta, plist, kR, minphi)\n",
    "    args = Dict(\"ct\"=>ct, \"cb\"=>find_cb(ct,beta), \"beta\"=>beta)\n",
    "    return [dev_approx_eeff(\"eL\", \"bR\", p, kR, minphi, eL5, bR5, 0., args) for p in plist]\n",
    "end\n",
    ";"
   ]
  },
  {
   "cell_type": "code",
   "execution_count": 16,
   "metadata": {},
   "outputs": [
    {
     "name": "stdout",
     "output_type": "stream",
     "text": [
      "357.717713 seconds (205.17 k allocations: 10.364 MiB)\n"
     ]
    },
    {
     "data": {
      "text/plain": [
       "5-element Array{Array{Float64,1},1}:\n",
       " [6.20668e-6, 0.203159, 0.969718, 2.25182, 4.08382]\n",
       " [6.37754e-6, 0.213844, 1.0128, 2.35004, 4.2617]   \n",
       " [6.51576e-6, 0.222522, 1.04779, 2.42985, 4.40633] \n",
       " [6.62731e-6, 0.229573, 1.07624, 2.49475, 4.52396] \n",
       " [6.72042e-6, 0.235344, 1.09952, 2.54787, 4.6203]  "
      ]
     },
     "execution_count": 16,
     "metadata": {},
     "output_type": "execute_result"
    }
   ],
   "source": [
    "@time temp_rotated = pmap(idx -> eebbR5(d[\"ct\"][idx], beta, d[\"p\"], kR, minphi), 1:length(d[\"ct\"]))"
   ]
  },
  {
   "cell_type": "code",
   "execution_count": 17,
   "metadata": {},
   "outputs": [
    {
     "data": {
      "text/plain": [
       "5-element Array{Array{Float64,1},1}:\n",
       " [6.83852e-6, 0.204559, 0.965969, 2.22983, 4.01122]\n",
       " [7.0094e-6, 0.215232, 1.00883, 2.32688, 4.18527]  \n",
       " [7.14763e-6, 0.223899, 1.04364, 2.40572, 4.32672] \n",
       " [7.2592e-6, 0.230943, 1.07193, 2.46981, 4.44173]  \n",
       " [7.35231e-6, 0.236706, 1.09508, 2.52226, 4.53588] "
      ]
     },
     "execution_count": 17,
     "metadata": {},
     "output_type": "execute_result"
    }
   ],
   "source": [
    "[approx_eebbR5(ct, beta, d[\"p\"], kR, minphi) for ct in d[\"ct\"]]"
   ]
  },
  {
   "cell_type": "code",
   "execution_count": 18,
   "metadata": {},
   "outputs": [],
   "source": [
    "# Effect of UV blkt?"
   ]
  },
  {
   "cell_type": "code",
   "execution_count": 19,
   "metadata": {},
   "outputs": [
    {
     "data": {
      "text/plain": [
       "5-element Array{Float64,1}:\n",
       " 0.1\n",
       " 0.3\n",
       " 0.5\n",
       " 0.7\n",
       " 0.9"
      ]
     },
     "execution_count": 19,
     "metadata": {},
     "output_type": "execute_result"
    }
   ],
   "source": [
    "d[\"ct\"]"
   ]
  },
  {
   "cell_type": "code",
   "execution_count": 20,
   "metadata": {},
   "outputs": [
    {
     "data": {
      "text/plain": [
       "5-element Array{Array{Float64,1},1}:\n",
       " [-1.02752e-5, 0.196356, 0.641197, 1.39536, 2.47013]       \n",
       " [-1.1048e-5, 0.147892, 0.446339, 0.95308, 1.67408]        \n",
       " [-1.18563e-5, 0.0971415, 0.242477, 0.491058, 0.84426]     \n",
       " [-1.24707e-5, 0.0584755, 0.0873009, 0.139867, 0.214735]   \n",
       " [-1.28021e-5, 0.0374996, 0.00318761, -0.050293, -0.125636]"
      ]
     },
     "execution_count": 20,
     "metadata": {},
     "output_type": "execute_result"
    }
   ],
   "source": [
    "# bL5 with pure zero mode\n",
    "purebL5(args, kR, minphi) = pure_zeromode(args[\"c\"], [-1/2, -1/2, 0, 2/3], 0., kR, minphi)\n",
    "[[dev_eeff(\"eL\",\"bL\", p, kR, minphi, eL5, purebL5, 0., Dict(\"c\"=>c)) for p in d[\"p\"]] for c in d[\"ct\"]]"
   ]
  },
  {
   "cell_type": "code",
   "execution_count": 21,
   "metadata": {},
   "outputs": [
    {
     "data": {
      "text/plain": [
       "5-element Array{Array{Float64,1},1}:\n",
       " [-1.13134e-5, 0.130184, 0.37538, 0.79244, 1.38591]        \n",
       " [-1.23958e-5, 0.0614565, 0.0995266, 0.167751, 0.265085]   \n",
       " [-1.2841e-5, 0.0330588, -0.0143404, -0.0897426, -0.196]   \n",
       " [-1.29579e-5, 0.0255334, -0.0444951, -0.157886, -0.31791] \n",
       " [-1.29847e-5, 0.0237808, -0.0515125, -0.173737, -0.346252]"
      ]
     },
     "execution_count": 21,
     "metadata": {},
     "output_type": "execute_result"
    }
   ],
   "source": [
    "# bL5 with pure zero mode with blkt = 30\n",
    "purebL5(args, kR, minphi) = pure_zeromode(args[\"c\"], [-1/2, -1/2, 0, 2/3], 30., kR, minphi)\n",
    "[[dev_eeff(\"eL\",\"bL\", p, kR, minphi, eL5, purebL5, 0., Dict(\"c\"=>c)) for p in d[\"p\"]] for c in d[\"ct\"]]"
   ]
  },
  {
   "cell_type": "code",
   "execution_count": 22,
   "metadata": {},
   "outputs": [],
   "source": [
    "# Note, deviation is suppressed by the blkt. \n",
    "# Also note that for IR zero-mode, no such suppression by blkt as blkt only affects UV fermions."
   ]
  },
  {
   "cell_type": "code",
   "execution_count": 23,
   "metadata": {},
   "outputs": [],
   "source": [
    "# bL with UV mixing"
   ]
  },
  {
   "cell_type": "code",
   "execution_count": 24,
   "metadata": {},
   "outputs": [],
   "source": [
    "@everywhere function eebbL5(ct, beta, plist, kR, minphi)\n",
    "    args = Dict(\"ct\"=>ct, \"cb\"=>find_cb(ct,beta), \"beta\"=>beta, \"ab\"=>find_at5(ct,find_cb(ct,beta),beta,kR,minphi))\n",
    "    return [dev_eeff(\"eL\",\"bL\", p, kR, minphi, eL5, bL5, 0., args) for p in plist]\n",
    "end\n",
    "\n",
    "function approx_eebbL5(ct, beta, plist, kR, minphi)\n",
    "    args = Dict(\"ct\"=>ct, \"cb\"=>find_cb(ct,beta), \"beta\"=>beta, \"ab\"=>find_at5(ct,find_cb(ct,beta),beta,kR,minphi))\n",
    "    return [dev_approx_eeff(\"eL\",\"bL\", p, kR, minphi, eL5, bL5, 0., args) for p in plist]\n",
    "end\n",
    "\n",
    "# just using the bL in (t,b)_L doublet, with proper boundary term.\n",
    "function approx_eebbL5_onlyone(ct, beta, plist, kR, minphi)\n",
    "    cb = find_cb(ct,beta)\n",
    "    ab = find_at5(ct, cb, beta, kR, minphi)\n",
    "    cbeta = cos(beta)\n",
    "    println(ab)\n",
    "    func(z) = f_zero(ct,z)\n",
    "    \n",
    "    pre = normalization(func, ab ; norm_scope = 1)\n",
    "    \n",
    "    qlist = [-1/2, -1/2, 0, 2/3]\n",
    "    ans = [pre*approxeeff([-1/2,0,0,-1/2], qlist, func, p, kR, minphi ; a = ab) for p in plist]\n",
    "    return compare(ans, sm.(plist,\"eL\",\"bL\"))\n",
    "end\n",
    ";"
   ]
  },
  {
   "cell_type": "code",
   "execution_count": 25,
   "metadata": {},
   "outputs": [
    {
     "name": "stdout",
     "output_type": "stream",
     "text": [
      "355.542198 seconds (275.77 k allocations: 13.779 MiB)\n"
     ]
    },
    {
     "data": {
      "text/plain": [
       "5-element Array{Array{Float64,1},1}:\n",
       " [-1.1705e-5, 0.103726, 0.269364, 0.552337, 0.954889] \n",
       " [-1.1781e-5, 0.0991706, 0.251015, 0.510665, 0.879844]\n",
       " [-1.17127e-5, 0.104284, 0.2714, 0.55664, 0.961942]   \n",
       " [-1.14512e-5, 0.123866, 0.349548, 0.733245, 1.27818] \n",
       " [-1.05607e-5, 0.196634, 0.639547, 1.38933, 2.45537]  "
      ]
     },
     "execution_count": 25,
     "metadata": {},
     "output_type": "execute_result"
    }
   ],
   "source": [
    "@time full = pmap(idx -> eebbL5(d[\"ct\"][idx], beta, d[\"p\"], kR, minphi), 1:length(d[\"ct\"]))"
   ]
  },
  {
   "cell_type": "code",
   "execution_count": 26,
   "metadata": {},
   "outputs": [
    {
     "data": {
      "text/plain": [
       "5-element Array{Array{Float64,1},1}:\n",
       " [-1.52879e-5, 0.10266, 0.270434, 0.552658, 0.948727]  \n",
       " [-1.53551e-5, 0.0982816, 0.252931, 0.513233, 0.878511]\n",
       " [-1.52581e-5, 0.103943, 0.27565, 0.564442, 0.969738]  \n",
       " [-1.48997e-5, 0.125369, 0.36157, 0.758144, 1.31495]   \n",
       " [-1.35325e-5, 0.20721, 0.690009, 1.49954, 2.63862]    "
      ]
     },
     "execution_count": 26,
     "metadata": {},
     "output_type": "execute_result"
    }
   ],
   "source": [
    "approx = [approx_eebbL5(ct, beta, d[\"p\"], kR, minphi) for ct in d[\"ct\"]]"
   ]
  },
  {
   "cell_type": "code",
   "execution_count": 27,
   "metadata": {},
   "outputs": [
    {
     "name": "stdout",
     "output_type": "stream",
     "text": [
      "53.43925721580645\n",
      "8.11275831879803\n",
      "-0.42570857949605134\n",
      "-1.3383062303964546\n",
      "-1.0942760682704782\n"
     ]
    },
    {
     "data": {
      "text/plain": [
       "5-element Array{Array{Float64,1},1}:\n",
       " [-1.52828e-5, 0.104537, 0.277742, 0.569043, 0.977863]\n",
       " [-1.53598e-5, 0.0997178, 0.25845, 0.525576, 0.900439]\n",
       " [-1.5286e-5, 0.104337, 0.276942, 0.567241, 0.974653] \n",
       " [-1.50116e-5, 0.121505, 0.34568, 0.722156, 1.2507]   \n",
       " [-1.42144e-5, 0.171401, 0.545559, 1.173, 2.055]      "
      ]
     },
     "execution_count": 27,
     "metadata": {},
     "output_type": "execute_result"
    }
   ],
   "source": [
    "approx = [approx_eebbL5_onlyone(ct, beta, d[\"p\"], kR, minphi) for ct in d[\"ct\"]]"
   ]
  },
  {
   "cell_type": "code",
   "execution_count": null,
   "metadata": {},
   "outputs": [],
   "source": []
  },
  {
   "cell_type": "code",
   "execution_count": null,
   "metadata": {},
   "outputs": [],
   "source": []
  },
  {
   "cell_type": "code",
   "execution_count": null,
   "metadata": {},
   "outputs": [],
   "source": []
  },
  {
   "cell_type": "code",
   "execution_count": 28,
   "metadata": {},
   "outputs": [],
   "source": [
    "@everywhere function eebbR4(ct, beta, plist, kR, minphi)\n",
    "    args = Dict(\"ct\"=>ct, \"cb\"=>find_cb(ct,beta), \"beta\"=>beta)\n",
    "    return [dev_eeff(\"eL\",\"bR\", p, kR, minphi, eL4, bR4, 0., args) for p in plist]\n",
    "end\n",
    "\n",
    "function approx_eebbR4(ct, beta, plist, kR, minphi)\n",
    "    args = Dict(\"ct\"=>ct, \"cb\"=>find_cb(ct,beta), \"beta\"=>beta)\n",
    "    return [dev_approx_eeff(\"eL\",\"bR\", p, kR, minphi, eL4, bR4, 0., args) for p in plist]\n",
    "end\n",
    ";"
   ]
  },
  {
   "cell_type": "code",
   "execution_count": 29,
   "metadata": {},
   "outputs": [
    {
     "data": {
      "text/plain": [
       "5-element Array{Float64,1}:\n",
       " 0.1\n",
       " 0.3\n",
       " 0.5\n",
       " 0.7\n",
       " 0.9"
      ]
     },
     "execution_count": 29,
     "metadata": {},
     "output_type": "execute_result"
    }
   ],
   "source": [
    "d[\"ct\"]"
   ]
  },
  {
   "cell_type": "code",
   "execution_count": 30,
   "metadata": {},
   "outputs": [
    {
     "name": "stdout",
     "output_type": "stream",
     "text": [
      "358.573740 seconds (154.08 k allocations: 7.632 MiB, 0.00% gc time)\n"
     ]
    },
    {
     "data": {
      "text/plain": [
       "5-element Array{Array{Float64,1},1}:\n",
       " [-0.000150765, 2.78493, 3.149, 4.40269, 6.26376]  \n",
       " [-0.000160709, 2.96319, 3.33354, 4.6408, 6.58382] \n",
       " [-0.000169457, 3.11917, 3.49287, 4.84355, 6.85339]\n",
       " [-0.000177123, 3.25525, 3.63021, 5.0161, 7.08043] \n",
       " [-0.000183857, 3.37433, 3.7491, 5.16373, 7.27278] "
      ]
     },
     "execution_count": 30,
     "metadata": {},
     "output_type": "execute_result"
    }
   ],
   "source": [
    "@time temp_rotated = pmap(idx -> eebbR4(d[\"ct\"][idx], beta, d[\"p\"], kR, minphi), 1:length(d[\"ct\"]))"
   ]
  },
  {
   "cell_type": "code",
   "execution_count": 31,
   "metadata": {},
   "outputs": [
    {
     "data": {
      "text/plain": [
       "5-element Array{Array{Float64,1},1}:\n",
       " [-0.000150154, 2.78103, 3.12699, 4.34003, 6.11784]\n",
       " [-0.000160099, 2.95898, 3.31036, 4.57483, 6.43022]\n",
       " [-0.000168845, 3.11469, 3.46868, 4.77479, 6.69329]\n",
       " [-0.000176512, 3.25054, 3.60516, 4.94497, 6.91486]\n",
       " [-0.000183245, 3.36942, 3.72331, 5.09059, 7.10259]"
      ]
     },
     "execution_count": 31,
     "metadata": {},
     "output_type": "execute_result"
    }
   ],
   "source": [
    "[approx_eebbR4(ct, beta, d[\"p\"], kR, minphi) for ct in d[\"ct\"]]"
   ]
  },
  {
   "cell_type": "code",
   "execution_count": 32,
   "metadata": {},
   "outputs": [],
   "source": [
    "@everywhere function eebbL4(ct, beta, plist, kR, minphi)\n",
    "    args = Dict(\"ct\"=>ct, \"cb\"=>find_cb(ct,beta), \"beta\"=>beta, \"ab\"=>find_at4(ct,find_cb(ct,beta),beta,kR,minphi))\n",
    "    return [dev_eeff(\"eL\",\"bL\", p, kR, minphi, eL4, bL4, 0., args) for p in plist]\n",
    "end\n",
    "\n",
    "function approx_eebbL4(ct, beta, plist, kR, minphi)\n",
    "    args = Dict(\"ct\"=>ct, \"cb\"=>find_cb(ct,beta), \"beta\"=>beta, \"ab\"=>find_at4(ct,find_cb(ct,beta),beta,kR,minphi))\n",
    "    return [dev_approx_eeff(\"eL\",\"bL\", p, kR, minphi, eL4, bL4, 0., args) for p in plist]\n",
    "end\n",
    "\n",
    "\n",
    "# just using the bL in (t,b)_L doublet, with proper boundary term.\n",
    "function approx_eebbL4_onlyone(ct, beta, plist, kR, minphi)\n",
    "    cb = find_cb(ct,beta)\n",
    "    ab = find_at4(ct, cb, beta, kR, minphi)\n",
    "    cbeta = cos(beta)\n",
    "    println(ab)\n",
    "    func(z) = f_zero(ct,z)\n",
    "    \n",
    "    pre = normalization(func, ab; norm_scope = 1)\n",
    "    qlist = [-1/2, 0, 0, 1/6]\n",
    "    ans = pre*[approxeeff([-1/2,0,0,-1/2],qlist, func, p, kR, minphi ; a = ab) for p in plist]\n",
    "    \n",
    "    return compare(ans, sm.(plist,\"eL\",\"bL\"))\n",
    "end\n",
    ";"
   ]
  },
  {
   "cell_type": "code",
   "execution_count": 33,
   "metadata": {},
   "outputs": [
    {
     "name": "stdout",
     "output_type": "stream",
     "text": [
      "360.639788 seconds (154.65 k allocations: 7.659 MiB, 0.00% gc time)\n"
     ]
    },
    {
     "data": {
      "text/plain": [
       "5-element Array{Array{Float64,1},1}:\n",
       " [7.096e-5, -0.0419975, 0.392193, 1.1167, 2.14754]   \n",
       " [6.21749e-5, -0.0249654, 0.385102, 1.06987, 2.04363]\n",
       " [6.35565e-5, -0.0117605, 0.447867, 1.21593, 2.30811]\n",
       " [8.28951e-5, 0.00404922, 0.67052, 1.78544, 3.37296] \n",
       " [0.0002807, 0.0713512, 2.59135, 6.85342, 13.0249]   "
      ]
     },
     "execution_count": 33,
     "metadata": {},
     "output_type": "execute_result"
    }
   ],
   "source": [
    "@time full = pmap(idx -> eebbL4(d[\"ct\"][idx], beta, d[\"p\"], kR, minphi), 1:length(d[\"ct\"]))"
   ]
  },
  {
   "cell_type": "code",
   "execution_count": 34,
   "metadata": {},
   "outputs": [
    {
     "data": {
      "text/plain": [
       "5-element Array{Array{Float64,1},1}:\n",
       " [6.73675e-5, -0.0427396, 0.393283, 1.11287, 2.12344]\n",
       " [5.85914e-5, -0.0255789, 0.386931, 1.06834, 2.02516]\n",
       " [6.00016e-5, -0.0118344, 0.451913, 1.21904, 2.29689]\n",
       " [7.945e-5, 0.00610548, 0.683097, 1.80569, 3.38642]  \n",
       " [0.000278429, 0.0961721, 2.69685, 7.06681, 13.3327] "
      ]
     },
     "execution_count": 34,
     "metadata": {},
     "output_type": "execute_result"
    }
   ],
   "source": [
    "approx = [approx_eebbL4(ct, beta, d[\"p\"], kR, minphi) for ct in d[\"ct\"]]"
   ]
  },
  {
   "cell_type": "code",
   "execution_count": 35,
   "metadata": {},
   "outputs": [
    {
     "name": "stdout",
     "output_type": "stream",
     "text": [
      "1.6784694307719477\n",
      "-2.7915568299939224\n",
      "-2.5834359220623426\n",
      "-1.7490307203229984\n",
      "-1.1702265833040297\n"
     ]
    },
    {
     "data": {
      "text/plain": [
       "5-element Array{Array{Float64,1},1}:\n",
       " [6.76061e-5, -0.0429373, 0.394498, 1.11642, 2.13028]\n",
       " [5.81057e-5, -0.0252976, 0.383989, 1.06006, 2.00937]\n",
       " [5.72531e-5, -0.0106787, 0.433568, 1.16838, 2.20063]\n",
       " [6.70014e-5, 0.00801164, 0.587016, 1.54665, 2.89664]\n",
       " [0.000112879, 0.0539797, 1.14732, 2.96742, 5.54089] "
      ]
     },
     "execution_count": 35,
     "metadata": {},
     "output_type": "execute_result"
    }
   ],
   "source": [
    "approx = [approx_eebbL4_onlyone(ct, beta, d[\"p\"], kR, minphi) for ct in d[\"ct\"]]"
   ]
  },
  {
   "cell_type": "code",
   "execution_count": 36,
   "metadata": {},
   "outputs": [],
   "source": [
    "# negative at bigger effect for UV localized left zero mode"
   ]
  },
  {
   "cell_type": "markdown",
   "metadata": {},
   "source": [
    "### arbitrary pure zeromode with arbitrary quantum numbers"
   ]
  },
  {
   "cell_type": "code",
   "execution_count": 37,
   "metadata": {},
   "outputs": [
    {
     "data": {
      "text/plain": [
       "1×2 Array{Float64,2}:\n",
       " -0.00759019  -0.0074668"
      ]
     },
     "execution_count": 37,
     "metadata": {},
     "output_type": "execute_result"
    }
   ],
   "source": [
    "@everywhere function arb5(arg, kR, minphi)\n",
    "    c = arg[\"c\"]\n",
    "    q = arg[\"q\"]\n",
    "    af = 0.\n",
    "    func(z) = f_zero(c,z)\n",
    "    qf = make_qf(func, q, kR, minphi)\n",
    "    return q, func, af, qf\n",
    "end\n",
    "\n",
    "arg = Dict(\"c\"=>-1.7, \"q\"=>[0., 0., 1., 0.])\n",
    "full = rs_eeff(0.75, kR, minphi, eL5, arb5, 0., arg)\n",
    "approx = approxeeff([-1/2,0,0,-1/2],arg[\"q\"], z->f_zero(arg[\"c\"],z), 0.75, kR, minphi)\n",
    "[full approx]"
   ]
  },
  {
   "cell_type": "code",
   "execution_count": 38,
   "metadata": {},
   "outputs": [
    {
     "data": {
      "text/plain": [
       "5-element Array{Float64,1}:\n",
       "  0.020470933747707143\n",
       " -0.35953361907902215 \n",
       " -1.4408810498734992  \n",
       " -3.225025787544067   \n",
       " -5.680100774318941   "
      ]
     },
     "execution_count": 38,
     "metadata": {},
     "output_type": "execute_result"
    }
   ],
   "source": [
    "# note when we turn on only one quantum number, the resulting value is always proportional to the quantum number\n",
    "# so for he difference between full code vs analytic approximation,\n",
    "# checking for fixed quantum number in each direction is enough.\n",
    "@everywhere function check_accuracy(c, dir, p, kR, minphi)\n",
    "    arg = Dict(\"c\"=>c, \"q\"=>[0., 0., 0., 0.])\n",
    "    arg[\"q\"][dir] = 1.\n",
    "    full = rs_eeff(p, kR, minphi, eL5, arb5, 0., arg)\n",
    "    approx = approxeeff([-1/2,0,0,-1/2],arg[\"q\"], z->f_zero(arg[\"c\"],z), p, kR, minphi)\n",
    "    ans = 100*((approx./full).^2-1)\n",
    "    return ans\n",
    "end\n",
    "\n",
    "# note the leading term in T35 direction is subleading compared to other direction\n",
    "# so we only include the leading term for T35 direction.\n",
    "# therefore, the difference in T35 direction between the full numerical calculation and analaytic approximation\n",
    "# can be of 10% order.\n",
    "[check_accuracy(-1.7, 3, p, kR, minphi) for p in d[\"p\"]]"
   ]
  },
  {
   "cell_type": "code",
   "execution_count": 39,
   "metadata": {},
   "outputs": [
    {
     "data": {
      "text/plain": [
       "4-element Array{Array{Float64,1},1}:\n",
       " [-2.16484e-6, -0.000180625, 0.000202815, -0.0140373, -0.0619466]\n",
       " [6.4148e-7, -6.39939e-5, -0.00830719, -0.0334066, -0.0958115]   \n",
       " [0.0204709, -0.359534, -1.44088, -3.22503, -5.6801]             \n",
       " [6.31902e-7, 0.00135234, -0.00451309, -0.0256091, -0.0826849]   "
      ]
     },
     "execution_count": 39,
     "metadata": {},
     "output_type": "execute_result"
    }
   ],
   "source": [
    "accuracy = [[check_accuracy(-1.7, dir, p, kR, minphi) for p in d[\"p\"]] for dir in 1:4]"
   ]
  },
  {
   "cell_type": "code",
   "execution_count": 40,
   "metadata": {},
   "outputs": [
    {
     "data": {
      "text/plain": [
       "1×2 Array{Float64,2}:\n",
       " -4.49565e-6  -5.48377e-6"
      ]
     },
     "execution_count": 40,
     "metadata": {},
     "output_type": "execute_result"
    }
   ],
   "source": [
    "# For UV fermion, and for T35 direction only,\n",
    "# full code and approximation differ much more\n",
    "# but it is just because the full values are so small that relative difference appears large\n",
    "arg = Dict(\"c\"=>1.7, \"q\"=>[0., 0., 1., 0.])\n",
    "full = rs_eeff(0.75, kR, minphi, eL5, arb5, 0., arg)\n",
    "approx = approxeeff([-1/2,0,0,-1/2],arg[\"q\"], z->f_zero(arg[\"c\"],z), 0.75, kR, minphi)\n",
    "[full approx]"
   ]
  },
  {
   "cell_type": "code",
   "execution_count": 41,
   "metadata": {},
   "outputs": [
    {
     "data": {
      "text/plain": [
       "4-element Array{Array{Float64,1},1}:\n",
       " [-2.16747e-6, -0.00104357, 0.00134838, 0.00471253, 0.0112966]\n",
       " [6.24986e-7, 0.00331715, 0.00629341, 0.0142791, 0.0277209]   \n",
       " [55.4789, 54.6995, 52.4615, 48.7903, 43.7795]                \n",
       " [6.31345e-7, 0.00164647, 0.000961356, 0.00273179, 0.00744592]"
      ]
     },
     "execution_count": 41,
     "metadata": {},
     "output_type": "execute_result"
    }
   ],
   "source": [
    "accuracy = [[check_accuracy(1.7, dir, p, kR, minphi) for p in d[\"p\"]] for dir in 1:4]"
   ]
  },
  {
   "cell_type": "code",
   "execution_count": 42,
   "metadata": {},
   "outputs": [],
   "source": [
    "using Plots, LaTeXStrings\n",
    "Plots.scalefontsizes()\n",
    "Plots.scalefontsizes(1.5)\n",
    "pyplot()\n",
    "\n",
    "accuracy_in_c = [[check_accuracy(c, dir, 1., kR, minphi) for c in -2:0.2:2] for dir in 1:4]\n",
    ";"
   ]
  },
  {
   "cell_type": "code",
   "execution_count": 43,
   "metadata": {},
   "outputs": [
    {
     "data": {
      "image/png": "[encoded data removed]"
     },
     "execution_count": 43,
     "metadata": {},
     "output_type": "execute_result"
    }
   ],
   "source": [
    "fig = plot(xlim = (-3, 3), ylim = (-1,1))\n",
    "lcolor = [:red :green :blue :orange :purple]\n",
    "for dir = 1:4\n",
    "    plot!(fig, -2:0.2:2, accuracy_in_c[dir], label = \"$dir\", linecolor = lcolor[dir])\n",
    "end\n",
    "fig"
   ]
  },
  {
   "cell_type": "code",
   "execution_count": 44,
   "metadata": {},
   "outputs": [
    {
     "data": {
      "image/png": "[encoded data removed]"
     },
     "execution_count": 44,
     "metadata": {},
     "output_type": "execute_result"
    }
   ],
   "source": [
    "fig = plot(xlim = (-3, 3), ylim = (-20,100))\n",
    "lcolor = [:red :green :blue :orange :purple]\n",
    "for dir = 3:3\n",
    "    plot!(fig, -2:0.2:2, accuracy_in_c[dir], label = \"$dir\", linecolor = lcolor[dir])\n",
    "end\n",
    "fig"
   ]
  },
  {
   "cell_type": "code",
   "execution_count": null,
   "metadata": {},
   "outputs": [],
   "source": []
  },
  {
   "cell_type": "code",
   "execution_count": null,
   "metadata": {},
   "outputs": [],
   "source": []
  },
  {
   "cell_type": "markdown",
   "metadata": {},
   "source": [
    "### Accuracy of ee -> Zh"
   ]
  },
  {
   "cell_type": "code",
   "execution_count": 45,
   "metadata": {},
   "outputs": [],
   "source": [
    "@everywhere begin\n",
    "\n",
    "d = Dict()\n",
    "d[\"p\"] = [0.001, 0.25, 0.5, 0.75, 1.]\n",
    "    \n",
    "include(\"so5_eeff.jl\");\n",
    "end\n",
    ";"
   ]
  },
  {
   "cell_type": "code",
   "execution_count": 46,
   "metadata": {},
   "outputs": [],
   "source": [
    "kR = 2.; minphi = 0.1;"
   ]
  },
  {
   "cell_type": "code",
   "execution_count": 47,
   "metadata": {},
   "outputs": [
    {
     "data": {
      "text/plain": [
       "5-element Array{Array{Float64,1},1}:\n",
       " [-0.00161365, 0.00167894, 0.0138704, 0.000864265]\n",
       " [-0.0180087, 0.0167894, 0.138703, 0.0096454]     \n",
       " [-0.0567038, 0.050366, 0.416093, 0.0303703]      \n",
       " [-0.116774, 0.100718, 0.832069, 0.0625434]       \n",
       " [-0.198712, 0.167807, 1.38632, 0.106429]         "
      ]
     },
     "execution_count": 47,
     "metadata": {},
     "output_type": "execute_result"
    }
   ],
   "source": [
    "# compare exact dZ vs approximate dZ\n",
    "temp1, exactdZ = onshell_Z(kR, minphi)\n",
    "approxdZ = approx_onshell_dZ(kR, minphi)\n",
    "[exactdZ(z) for z in [0.01, 0.1, 0.3, 0.6, 1]]"
   ]
  },
  {
   "cell_type": "code",
   "execution_count": 48,
   "metadata": {},
   "outputs": [
    {
     "data": {
      "text/plain": [
       "5-element Array{Array{Float64,1},1}:\n",
       " [-0.0016125, 0.00167771, 0.0138761, 0.000863649]\n",
       " [-0.017996, 0.0167771, 0.138761, 0.00963857]    \n",
       " [-0.0566659, 0.0503313, 0.416265, 0.0303501]    \n",
       " [-0.116711, 0.100663, 0.832414, 0.06251]        \n",
       " [-0.198669, 0.167771, 1.3869, 0.106407]         "
      ]
     },
     "execution_count": 48,
     "metadata": {},
     "output_type": "execute_result"
    }
   ],
   "source": [
    "[approxdZ(z) for z in [0.01, 0.1, 0.3, 0.6, 1]]"
   ]
  },
  {
   "cell_type": "code",
   "execution_count": 49,
   "metadata": {},
   "outputs": [
    {
     "data": {
      "text/plain": [
       "5-element Array{Array{Float64,1},1}:\n",
       " [0.000713166, 0.000734332, -0.000413208, 0.000713166]\n",
       " [0.000708454, 0.000729423, -0.000413214, 0.000708454]\n",
       " [0.000668711, 0.000687931, -0.000413261, 0.000668711]\n",
       " [0.000534155, 0.000547589, -0.000413414, 0.000534155]\n",
       " [0.00021485, 0.00021485, -0.000413736, 0.00021485]   "
      ]
     },
     "execution_count": 49,
     "metadata": {},
     "output_type": "execute_result"
    }
   ],
   "source": [
    "[exactdZ(z)./approxdZ(z).-1 for z in [0.01, 0.1, 0.3, 0.6, 1]]"
   ]
  },
  {
   "cell_type": "code",
   "execution_count": 50,
   "metadata": {},
   "outputs": [],
   "source": [
    "@everywhere function eeZh(plist, kR, minphi)\n",
    "    return [dev_eeff(\"eL\",\"Zh\", p, kR, minphi, eL5, Zh, 0., 0.) for p in plist]\n",
    "end\n",
    ";"
   ]
  },
  {
   "cell_type": "code",
   "execution_count": 51,
   "metadata": {},
   "outputs": [
    {
     "name": "stdout",
     "output_type": "stream",
     "text": [
      "128.216155 seconds (271.99 M allocations: 20.890 GiB, 6.51% gc time)\n"
     ]
    },
    {
     "data": {
      "text/plain": [
       "5-element Array{Array{Float64,0},1}:\n",
       " -3.77701\n",
       " -3.20386\n",
       " -1.5746 \n",
       " 1.23625 \n",
       " 5.37059 "
      ]
     },
     "execution_count": 51,
     "metadata": {},
     "output_type": "execute_result"
    }
   ],
   "source": [
    "@time temp_Zh = eeZh.(d[\"p\"], kR, minphi)"
   ]
  },
  {
   "cell_type": "code",
   "execution_count": 52,
   "metadata": {},
   "outputs": [
    {
     "data": {
      "text/plain": [
       "5-element Array{Float64,1}:\n",
       " -3.6540199655284877\n",
       " -3.1094922447482243\n",
       " -1.4666760086431863\n",
       "  1.302040961010431 \n",
       "  5.242693528430187 "
      ]
     },
     "execution_count": 52,
     "metadata": {},
     "output_type": "execute_result"
    }
   ],
   "source": [
    "approx_temp_Zh = compare(approx_eeZh.(d[\"p\"], kR, minphi), sm.(d[\"p\"], \"eL\", \"Zh\"))"
   ]
  },
  {
   "cell_type": "code",
   "execution_count": null,
   "metadata": {},
   "outputs": [],
   "source": []
  }
 ],
 "metadata": {
  "kernelspec": {
   "display_name": "Julia 1.0.3",
   "language": "julia",
   "name": "julia-1.0"
  },
  "language_info": {
   "file_extension": ".jl",
   "mimetype": "application/julia",
   "name": "julia",
   "version": "1.0.3"
  }
 },
 "nbformat": 4,
 "nbformat_minor": 2
}
