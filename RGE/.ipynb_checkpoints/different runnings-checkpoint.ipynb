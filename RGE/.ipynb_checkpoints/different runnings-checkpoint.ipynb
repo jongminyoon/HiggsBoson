{
 "cells": [
  {
   "cell_type": "code",
   "execution_count": 1,
   "metadata": {},
   "outputs": [
    {
     "name": "stdout",
     "output_type": "stream",
     "text": [
      "Julia Version 1.0.3\n",
      "Commit 099e826241 (2018-12-18 01:34 UTC)\n",
      "Platform Info:\n",
      "  OS: Linux (x86_64-pc-linux-gnu)\n",
      "  CPU: Intel(R) Core(TM) i5-8250U CPU @ 1.60GHz\n",
      "  WORD_SIZE: 64\n",
      "  LIBM: libopenlibm\n",
      "  LLVM: libLLVM-6.0.0 (ORCJIT, skylake)\n"
     ]
    }
   ],
   "source": [
    "versioninfo()"
   ]
  },
  {
   "cell_type": "code",
   "execution_count": 2,
   "metadata": {},
   "outputs": [],
   "source": [
    "using DifferentialEquations, ParameterizedFunctions, PyPlot, Printf"
   ]
  },
  {
   "cell_type": "code",
   "execution_count": 3,
   "metadata": {},
   "outputs": [],
   "source": [
    "f2 = @ode_def fulltwoloop begin\n",
    "    # note all couplings are for squared, i.e. \"g1\"==g1^2, except l = lambda\n",
    "    # note g1^2 = 5/3*gy^2\n",
    "    dg1 = g1^2/(4*pi)^2*(41/10) +\n",
    "          g1^2/(4*pi)^4*(44/5*g3 +27/10*g2 +199/50*g1 -17/10*yt -1/2*yb -3/2*ytau)\n",
    "    dg2 = g2^2/(4*pi)^2*(-19/6) +\n",
    "          g2^2/(4*pi)^4*(12*g3 +35/6*g2 +9/10*g1 -3/2*yt -3/2*yb -1/2*ytau)\n",
    "    dg3 = g3^2/(4*pi)^2*(-7) +\n",
    "          g3^2/(4*pi)^4*(-26*g3 +9/2*g2 +11/10*g1 -2*yt -2*yb)\n",
    "    dyt = yt/(4*pi)^2*(9/2*yt +3/2*yb +ytau -8*g3 -9/4*g2 -17/20*g1) + \n",
    "          yt/(4*pi)^4*(yt*(-12*yt -11/4*yb -9/4*ytau -12*l +36*g3 +225/16*g2 +393/80*g1) +\n",
    "                        yb*(-1/4*yb +5/4*ytau +4*g3 +99/16*g2 +7/80*g1) +ytau*(-9/4*ytau +15/8*g2 +15/8*g1) +\n",
    "                        6*l^2 -108*g3^2 -23/4*g2^2 +1187/600*g1^2 +9*g3*g2 + 19/15*g3*g1 - 9/20*g2*g1)\n",
    "    \n",
    "#     dyb = yb/(4*pi)^2*(3/2*yt +9/2*yb +ytau -8*g3 -9/4*g2 -1/4*g1) +\n",
    "#           yb/(4*pi)^4*(yt*(-1/4*yt -11/4*yb +5/4*ytau +4*g3 +99/16*g2 +91/80*g1) +\n",
    "#                         yb*(-12*yb -9/4*ytau -12*l +36*g3 +225/16*g2 +237/80*g1) + \n",
    "#                         ytau*(-9/4*ytau +15/8*g2 +15/8*g1) +\n",
    "#                         6*l^2 -108*g3^2 -23/4*g2^2 -127/600*g1^2 +9*g3*g2 +31/15*g3*g1 -27/20*g2*g1)\n",
    "#     dytau = ytau/(4*pi)^2*(3*yt +3*yb +5/2*ytau -9/4*g2 -9/4*g1) +\n",
    "#             ytau/(4*pi)^4*(6*l^2 -23/4*g2^2 +1371/200*g1^2 +27/20*g2*g1 + \n",
    "#                         yt*(-27/4*yt +3/2*yb -27/4*ytau +20*g3 +45/8*g2 +17/8*g1) +\n",
    "#                         yb*(-27/4*yb -27/4*ytau +20*g3 +45/8*g2 +5/8*g1) + \n",
    "#                         ytau*(-3*ytau -12*l +165/16*g2 +537/80*g1))\n",
    "    \n",
    "    dm  = m/(4*pi)^2*(6*l +3*yt +3*yb +ytau -9/4*g2 -9/20*g1) +\n",
    "          m/(4*pi)^4*(l*(-30*l -36*yt -36*yb -12*ytau +36*g2 +36/5*g1) + \n",
    "                        yt*(-27/4*yt -21/2*yb +20*g3 +45/8*g2 +17/8*g1) + \n",
    "                        yb*(-27/4*yb +20*g3 +45/8*g2 +5/8*g1) + \n",
    "                        ytau*(-9/4*ytau +15/8*g2 +15/8*g1) -145/32*g2^2 +1671/800*g1^2 +9/16*g2*g1)\n",
    "    dl  = 1/(4*pi)^2*(l*(12*l +6*yt +6*yb +2*ytau -9/2*g2 -9/10*g1) +\n",
    "                        -3*yt^2 -3*yb^2 -ytau^2 +9/16*g2^2 +27/400*g1^2 +9/40*g2*g1) + \n",
    "          1/(4*pi)^4*(l^2*(-156*l -72*yt -72*yb -24*ytau +54*g2 +54/5*g1) + \n",
    "                        l*yt*(-3/2*yt -21*yb +40*g3 +45/4*g2 +17/4*g1) + \n",
    "                        l*yb*(-3/2*yb +40*g3 +45/4*g2 +5/4*g1) +l*ytau*(-1/2*yt +15/4*g2 +15/4*g1) +\n",
    "                        l*(-73/16*g2^2 +1887/400*g1^2 +117/40*g2*g1) + \n",
    "                        yt^2*(15*yt -3*yb -16*g3 -4/5*g1) +yt*(-9/8*g2^2 -171/200*g1^2 +63/20*g1*g2) +\n",
    "                        yb^2*(-3*yt +15*yb -16*g3 +2/5*g1) + yb*(-9/8*g2^2 +9/40*g1^2 +27/20*g1*g2) +\n",
    "                        ytau^2*(5*ytau -6/5*g1) +ytau*(-3/8*g2^2 -9/8*g1^2 +33/20*g2*g1) +\n",
    "                        305/32*g2^3 -3411/4000*g1^3 -289/160*g2^2*g1 -1677/800*g2*g1^2)\n",
    "end ytau yb\n",
    ";"
   ]
  },
  {
   "cell_type": "code",
   "execution_count": 4,
   "metadata": {},
   "outputs": [],
   "source": [
    "f1 = @ode_def fulloneloop begin\n",
    "    # note all couplings are for squared, i.e. \"g1\"==g1^2, except l = lambda\n",
    "    # note g1^2 = 5/3*gy^2\n",
    "    dg1 = g1^2/(4*pi)^2*(41/10)\n",
    "    dg2 = g2^2/(4*pi)^2*(-19/6)\n",
    "    dg3 = g3^2/(4*pi)^2*(-7)\n",
    "    dyt = yt/(4*pi)^2*(9/2*yt +3/2*yb +ytau -8*g3 -9/4*g2 -17/20*g1) \n",
    "    dm  = m/(4*pi)^2*(6*l +3*yt +3*yb +ytau -9/4*g2 -9/20*g1)\n",
    "    dl  = 1/(4*pi)^2*(l*(12*l +6*yt +6*yb +2*ytau -9/2*g2 -9/10*g1) +\n",
    "                        -3*yt^2 -3*yb^2 -ytau^2 +9/16*g2^2 +27/400*g1^2 +9/40*g2*g1)\n",
    "end ytau yb\n",
    ";"
   ]
  },
  {
   "cell_type": "code",
   "execution_count": 5,
   "metadata": {},
   "outputs": [],
   "source": [
    "# list of observables\n",
    "obsmw = 80.384\n",
    "obsmz = 91.1876\n",
    "obsmh = 125.15\n",
    "obsmt = 173.34\n",
    "obsa3 = 0.1184\n",
    "\n",
    "gy0 = 0.35830 + 0.00011*(obsmt-173.34) - 0.00020/0.0014*(obsmw-80.384)\n",
    "g20 = 0.64779 + 0.00004*(obsmt-173.34) + 0.00011/0.0014*(obsmw-80.384)\n",
    "g30 = 1.1666 + 0.00314/0.0007*(obsa3-0.1184)-0.00046*(obsmt-173.34)\n",
    "yt0 = 0.93690 + 0.00556*(obsmt-173.34) - 0.00042/0.0007*(obsa3-0.1184)\n",
    "m0 = 131.55 + 0.94*(obsmh-125.15) + 0.17*(obsmt-173.34)\n",
    "l0 = 0.12604 + 0.00206*(obsmh-125.15) - 0.00004*(obsmt-173.34)\n",
    "\n",
    "mplanck = 2.435*10^18\n",
    "maxmu = 10000.\n",
    "muspan = (2*log(obsmt),2*log(maxmu))\n",
    "mpspan = (2*log(obsmt),2*log(mplanck));"
   ]
  },
  {
   "cell_type": "code",
   "execution_count": 6,
   "metadata": {},
   "outputs": [],
   "source": [
    "initial = [5/3*gy0^2 ; g20^2 ; g30^2 ; yt0^2 ; m0^2 ; l0]\n",
    "\n",
    "result = zeros(5,length(initial)+2)\n",
    "temp = initial\n",
    "# gy g2 g3 yt l v mt mh\n",
    "result[1,:] = [sqrt(temp[1]*3/5) ; sqrt.(temp[2:4]) ; temp[6] ; sqrt(temp[5]/2/temp[6]) ; \n",
    "                sqrt(temp[4]*temp[5]/4/temp[6]) ; sqrt(temp[5])]\n",
    "coeff = [0.,0.] # for [ytau, yb]\n",
    ";"
   ]
  },
  {
   "cell_type": "code",
   "execution_count": 7,
   "metadata": {},
   "outputs": [],
   "source": [
    "# expression for checking whether we can get back the initial values if we run from mplanck to mtop\n",
    "# should specify running before eval(check)\n",
    "check = quote\n",
    "    prob = ODEProblem(running, initial, mpspan, coeff)\n",
    "    final = solve(prob,reltol=1e-6,abstol=1e-6)[end]\n",
    "    backspan = (2*log(mplanck),2*log(obsmt))\n",
    "    prob = ODEProblem(running, final, backspan, coeff)\n",
    "    sol = solve(prob,reltol=1e-6,abstol=1e-6)\n",
    "    @printf \"relative error = %.6f \\n\" sum((sol[end]-initial)./initial)\n",
    "end\n",
    ";"
   ]
  },
  {
   "cell_type": "code",
   "execution_count": 8,
   "metadata": {},
   "outputs": [
    {
     "name": "stdout",
     "output_type": "stream",
     "text": [
      "relative error = -0.000001 \n",
      "relative error = -0.000001 \n"
     ]
    }
   ],
   "source": [
    "running = f1\n",
    "eval(check)\n",
    "running = f2\n",
    "eval(check)\n",
    ";"
   ]
  },
  {
   "cell_type": "code",
   "execution_count": 9,
   "metadata": {},
   "outputs": [],
   "source": [
    "at3TeV = quote\n",
    "    prob = ODEProblem(running, initial, muspan, coeff)\n",
    "    sol = solve(prob,reltol=1e-6,abstol=1e-6)\n",
    "    temp = sol(2*log(3000))\n",
    "    output = [sqrt(temp[1]*3/5) ; sqrt.(temp[2:4]) ; temp[6] ; sqrt(temp[5]/2/temp[6]) ; \n",
    "                sqrt(temp[4]*temp[5]/4/temp[6]) ; sqrt(temp[5])]\n",
    "    @printf \"\"\"gy = %.3f\n",
    "    g2 = %.3f\n",
    "    g3 = %.3f\n",
    "    yt = %.3f\n",
    "    l  = %.3f\n",
    "    v  = %.3f\n",
    "    mt = %.3f\n",
    "    mh = %.3f\"\"\" output...\n",
    "end\n",
    ";"
   ]
  },
  {
   "cell_type": "code",
   "execution_count": 10,
   "metadata": {},
   "outputs": [
    {
     "name": "stdout",
     "output_type": "stream",
     "text": [
      "gy = 0.364\n",
      "g2 = 0.633\n",
      "g3 = 1.006\n",
      "yt = 0.826\n",
      "l  = 0.080\n",
      "v  = 341.140\n",
      "mt = 199.192\n",
      "mh = 136.143"
     ]
    }
   ],
   "source": [
    "running = f1\n",
    "eval(at3TeV)\n",
    "result[2,:] = output\n",
    ";"
   ]
  },
  {
   "cell_type": "code",
   "execution_count": 11,
   "metadata": {},
   "outputs": [
    {
     "name": "stdout",
     "output_type": "stream",
     "text": [
      "gy = 0.364\n",
      "g2 = 0.633\n",
      "g3 = 1.003\n",
      "yt = 0.815\n",
      "l  = 0.081\n",
      "v  = 338.280\n",
      "mt = 194.903\n",
      "mh = 136.287"
     ]
    }
   ],
   "source": [
    "running = f2\n",
    "eval(at3TeV)\n",
    "result[3,:] = output\n",
    ";"
   ]
  },
  {
   "cell_type": "code",
   "execution_count": 12,
   "metadata": {},
   "outputs": [],
   "source": [
    "# no running in l=lambda\n",
    "y2 = @ode_def yttwoloop begin\n",
    "    # note all couplings are for squared, i.e. \"g1\"==g1^2, except l = lambda\n",
    "    # note g1^2 = 5/3*gy^2\n",
    "    dg1 = g1^2/(4*pi)^2*(41/10) +\n",
    "          g1^2/(4*pi)^4*(44/5*g3 +27/10*g2 +199/50*g1 -17/10*yt -1/2*yb -3/2*ytau)\n",
    "    dg2 = g2^2/(4*pi)^2*(-19/6) +\n",
    "          g2^2/(4*pi)^4*(12*g3 +35/6*g2 +9/10*g1 -3/2*yt -3/2*yb -1/2*ytau)\n",
    "    dg3 = g3^2/(4*pi)^2*(-7) +\n",
    "          g3^2/(4*pi)^4*(-26*g3 +9/2*g2 +11/10*g1 -2*yt -2*yb)\n",
    "    dyt = yt/(4*pi)^2*(9/2*yt +3/2*yb +ytau -8*g3 -9/4*g2 -17/20*g1) + \n",
    "          yt/(4*pi)^4*(yt*(-12*yt -11/4*yb -9/4*ytau -12*l +36*g3 +225/16*g2 +393/80*g1) +\n",
    "                        yb*(-1/4*yb +5/4*ytau +4*g3 +99/16*g2 +7/80*g1) +ytau*(-9/4*ytau +15/8*g2 +15/8*g1) +\n",
    "                        6*l^2 -108*g3^2 -23/4*g2^2 +1187/600*g1^2 +9*g3*g2 + 19/15*g3*g1 - 9/20*g2*g1)\n",
    "    dm  = m/(4*pi)^2*(6*l +3*yt +3*yb +ytau -9/4*g2 -9/20*g1) +\n",
    "          m/(4*pi)^4*(l*(-30*l -36*yt -36*yb -12*ytau +36*g2 +36/5*g1) + \n",
    "                        yt*(-27/4*yt -21/2*yb +20*g3 +45/8*g2 +17/8*g1) + \n",
    "                        yb*(-27/4*yb +20*g3 +45/8*g2 +5/8*g1) + \n",
    "                        ytau*(-9/4*ytau +15/8*g2 +15/8*g1) -145/32*g2^2 +1671/800*g1^2 +9/16*g2*g1)\n",
    "end ytau yb l\n",
    ";"
   ]
  },
  {
   "cell_type": "code",
   "execution_count": 13,
   "metadata": {},
   "outputs": [],
   "source": [
    "y1 = @ode_def ytoneloop begin\n",
    "    # note all couplings are for squared, i.e. \"g1\"==g1^2, except l = lambda\n",
    "    # note g1^2 = 5/3*gy^2\n",
    "    dg1 = g1^2/(4*pi)^2*(41/10)\n",
    "    dg2 = g2^2/(4*pi)^2*(-19/6)\n",
    "    dg3 = g3^2/(4*pi)^2*(-7)\n",
    "    dyt = yt/(4*pi)^2*(9/2*yt +3/2*yb +ytau -8*g3 -9/4*g2 -17/20*g1) \n",
    "    dm  = m/(4*pi)^2*(6*l +3*yt +3*yb +ytau -9/4*g2 -9/20*g1)\n",
    "end ytau yb l\n",
    ";"
   ]
  },
  {
   "cell_type": "code",
   "execution_count": 14,
   "metadata": {},
   "outputs": [],
   "source": [
    "initial = [5/3*gy0^2 ; g20^2 ; g30^2 ; yt0^2 ; m0^2]\n",
    "# gy g2 g3 yt l v mt mh\n",
    "result[4,5] = l0; result[5,5] = l0;\n",
    "\n",
    "coeff = [0.,0.,0.12604] # for [ytau, yb, l]\n",
    ";"
   ]
  },
  {
   "cell_type": "code",
   "execution_count": 15,
   "metadata": {},
   "outputs": [
    {
     "name": "stdout",
     "output_type": "stream",
     "text": [
      "relative error = -0.000000 \n",
      "relative error = -0.000000 \n"
     ]
    }
   ],
   "source": [
    "running = y1\n",
    "eval(check)\n",
    "running = y2\n",
    "eval(check)\n",
    ";"
   ]
  },
  {
   "cell_type": "code",
   "execution_count": 16,
   "metadata": {},
   "outputs": [],
   "source": [
    "at3TeV = quote\n",
    "    prob = ODEProblem(running, initial, muspan, coeff)\n",
    "    sol = solve(prob,reltol=1e-6,abstol=1e-6)\n",
    "    temp = [sol(2*log(3000)) ; coeff[3]]\n",
    "    output = [sqrt(temp[1]*3/5) ; sqrt.(temp[2:4]) ; temp[6] ; sqrt(temp[5]/2/temp[6]) ; \n",
    "                sqrt(temp[4]*temp[5]/4/temp[6]) ; sqrt(temp[5])]\n",
    "    @printf \"\"\"gy = %.3f\n",
    "    g2 = %.3f\n",
    "    g3 = %.3f\n",
    "    yt = %.3f\n",
    "    l  = %.3f\n",
    "    v  = %.3f\n",
    "    mt = %.3f\n",
    "    mh = %.3f\"\"\" output...\n",
    "end\n",
    ";"
   ]
  },
  {
   "cell_type": "code",
   "execution_count": 17,
   "metadata": {},
   "outputs": [
    {
     "name": "stdout",
     "output_type": "stream",
     "text": [
      "gy = 0.364\n",
      "g2 = 0.633\n",
      "g3 = 1.006\n",
      "yt = 0.826\n",
      "l  = 0.126\n",
      "v  = 271.891\n",
      "mt = 158.757\n",
      "mh = 136.510"
     ]
    }
   ],
   "source": [
    "running = y1\n",
    "eval(at3TeV)\n",
    "result[4,:] = output\n",
    ";"
   ]
  },
  {
   "cell_type": "code",
   "execution_count": 18,
   "metadata": {},
   "outputs": [
    {
     "name": "stdout",
     "output_type": "stream",
     "text": [
      "gy = 0.364\n",
      "g2 = 0.633\n",
      "g3 = 1.003\n",
      "yt = 0.815\n",
      "l  = 0.126\n",
      "v  = 272.150\n",
      "mt = 156.799\n",
      "mh = 136.640"
     ]
    }
   ],
   "source": [
    "running = y2\n",
    "eval(at3TeV)\n",
    "result[5,:] = output\n",
    ";"
   ]
  },
  {
   "cell_type": "code",
   "execution_count": 19,
   "metadata": {},
   "outputs": [
    {
     "data": {
      "text/plain": [
       "mydisp (generic function with 1 method)"
      ]
     },
     "execution_count": 19,
     "metadata": {},
     "output_type": "execute_result"
    }
   ],
   "source": [
    "function mydisp(x)\n",
    "    show(IOContext(stdout), \"text/plain\", x)\n",
    "end"
   ]
  },
  {
   "cell_type": "code",
   "execution_count": 20,
   "metadata": {},
   "outputs": [
    {
     "name": "stdout",
     "output_type": "stream",
     "text": [
      "9×6 Array{Any,2}:\n",
      " \"list\"       \"at mt\"     \"fulloneloop\"     \"fulltwoloop\"     \"ytoneloopt\"     \"yttwoloop\"\n",
      " \"gy\"        0.3583      0.364114          0.364214          0.364114         0.364214    \n",
      " \"g2\"        0.64779     0.632786          0.633234          0.632786         0.633234    \n",
      " \"g3\"        1.1666      1.00629           1.00284           1.00629          1.00284     \n",
      " \"yt\"        0.9369      0.825759          0.814814          0.825759         0.814796    \n",
      " \"lambda\"    0.12604     0.079633          0.0811571         0.12604          0.12604     \n",
      " \"vev\"     262.012     341.14            338.28            271.891          272.15        \n",
      " \"mt\"      173.58      199.192           194.903           158.757          156.799       \n",
      " \"mh\"      131.55      136.143           136.287           136.51           136.64        "
     ]
    }
   ],
   "source": [
    "mydisp([[\"list\" ; \"gy\" ; \"g2\" ; \"g3\" ; \"yt\" ; \"lambda\" ; \"vev\" ; \"mt\" ; \"mh\"] [\"at mt\"  \"fulloneloop\"  \"fulltwoloop\"  \"ytoneloopt\"  \"yttwoloop\" ;\n",
    "    result']])"
   ]
  },
  {
   "cell_type": "code",
   "execution_count": null,
   "metadata": {},
   "outputs": [],
   "source": []
  },
  {
   "cell_type": "code",
   "execution_count": 21,
   "metadata": {},
   "outputs": [
    {
     "data": {
      "text/plain": [
       "0.9792271122048731"
      ]
     },
     "execution_count": 21,
     "metadata": {},
     "output_type": "execute_result"
    }
   ],
   "source": [
    "exp(-0.94^2*3/4/4/pi/pi*log(3000/246)/2)"
   ]
  },
  {
   "cell_type": "code",
   "execution_count": 22,
   "metadata": {},
   "outputs": [
    {
     "data": {
      "text/plain": [
       "0.9833767815749506"
      ]
     },
     "execution_count": 22,
     "metadata": {},
     "output_type": "execute_result"
    }
   ],
   "source": [
    "exp(-0.84^2*3/4/4/pi/pi*log(3000/246)/2)"
   ]
  },
  {
   "cell_type": "code",
   "execution_count": null,
   "metadata": {},
   "outputs": [],
   "source": []
  },
  {
   "cell_type": "code",
   "execution_count": null,
   "metadata": {},
   "outputs": [],
   "source": []
  },
  {
   "cell_type": "code",
   "execution_count": 23,
   "metadata": {},
   "outputs": [],
   "source": [
    "g31 = @ode_def g3oneloop begin\n",
    "    # note all couplings are for squared, i.e. \"g1\"==g1^2, except l = lambda\n",
    "    # note g1^2 = 5/3*gy^2\n",
    "    dg3 = g3^2/(4*pi)^2*(-7)\n",
    "end\n",
    ";"
   ]
  },
  {
   "cell_type": "code",
   "execution_count": 24,
   "metadata": {},
   "outputs": [],
   "source": [
    "# list of observables\n",
    "obsmw = 80.384\n",
    "obsmz = 91.1876\n",
    "obsmh = 125.15\n",
    "obsmt = 173.34\n",
    "obsa3 = 0.1184\n",
    "\n",
    "gy0 = 0.35830 + 0.00011*(obsmt-173.34) - 0.00020/0.0014*(obsmw-80.384)\n",
    "g20 = 0.64779 + 0.00004*(obsmt-173.34) + 0.00011/0.0014*(obsmw-80.384)\n",
    "g30 = 1.1666 + 0.00314/0.0007*(obsa3-0.1184)-0.00046*(obsmt-173.34)\n",
    "l0 = 0.12604 + 0.00206*(obsmh-125.15) - 0.00004*(obsmt-173.34)\n",
    "m0 = 131.55 + 0.94*(obsmh-125.15) + 0.17*(obsmt-173.34)\n",
    "yt0 = 0.93690 + 0.00556*(obsmt-173.34) - 0.00042/0.0007*(obsa3-0.1184);"
   ]
  },
  {
   "cell_type": "code",
   "execution_count": 25,
   "metadata": {},
   "outputs": [
    {
     "data": {
      "text/plain": [
       "1×2 Array{Float64,2}:\n",
       " 1.1666  1.57142"
      ]
     },
     "execution_count": 25,
     "metadata": {},
     "output_type": "execute_result"
    }
   ],
   "source": [
    "running = g31\n",
    "prob = ODEProblem(running, [g30^2], (2*log(obsmt),2*log(4.2)))\n",
    "sol = solve(prob,reltol=1e-6,abstol=1e-6)\n",
    "sqrt.([sol[1] sol[end]])"
   ]
  },
  {
   "cell_type": "code",
   "execution_count": 26,
   "metadata": {},
   "outputs": [
    {
     "data": {
      "text/plain": [
       "1×2 Array{Float64,2}:\n",
       " 3.07789  0.0176785"
      ]
     },
     "execution_count": 26,
     "metadata": {},
     "output_type": "execute_result"
    }
   ],
   "source": [
    "b0 = 11-2/3*5;\n",
    "mb0 = 4.2*(sol[end][1]/sol[1][1])^(-4/b0)\n",
    "yb0 = sqrt(2)*mb0/246.21971\n",
    "[mb0 yb0]"
   ]
  },
  {
   "cell_type": "code",
   "execution_count": 27,
   "metadata": {},
   "outputs": [],
   "source": [
    "b1 = @ode_def boneloop begin\n",
    "    # note all couplings are for squared, i.e. \"g1\"==g1^2, except l = lambda\n",
    "    # note g1^2 = 5/3*gy^2\n",
    "    dg1 = g1^2/(4*pi)^2*(41/10)\n",
    "    dg2 = g2^2/(4*pi)^2*(-19/6)\n",
    "    dg3 = g3^2/(4*pi)^2*(-7)\n",
    "    dyt = yt/(4*pi)^2*(9/2*yt +3/2*yb +ytau -8*g3 -9/4*g2 -17/20*g1)\n",
    "    \n",
    "    dyb = yb/(4*pi)^2*(3/2*yt +9/2*yb +ytau -8*g3 -9/4*g2 -1/4*g1)\n",
    "    \n",
    "    dm  = m/(4*pi)^2*(6*l +3*yt +3*yb +ytau -9/4*g2 -9/20*g1)\n",
    "end ytau l\n",
    ";"
   ]
  },
  {
   "cell_type": "code",
   "execution_count": 28,
   "metadata": {},
   "outputs": [
    {
     "data": {
      "text/plain": [
       "7-element Array{Float64,1}:\n",
       "   0.3632694691180812  \n",
       "   0.6348564119645798  \n",
       "   1.0251158589233993  \n",
       "   0.8390706551100133  \n",
       "   0.015297055200858029\n",
       " 135.87112091666634    \n",
       "   0.12604             "
      ]
     },
     "execution_count": 28,
     "metadata": {},
     "output_type": "execute_result"
    }
   ],
   "source": [
    "running = b1\n",
    "initial = [5/3*gy0^2 ; g20^2 ; g30^2 ; yt0^2 ; yb0^2 ; m0^2]\n",
    "coeff = [0., 0.12604]\n",
    "prob = ODEProblem(running, initial, (2*log(obsmt),2*log(3000)), coeff)\n",
    "sol = solve(prob,reltol=1e-6,abstol=1e-6)\n",
    "temp = sol(2*log(2000))\n",
    "[sqrt(temp[1]*3/5) ; sqrt.(temp[2:6]) ; l0]"
   ]
  },
  {
   "cell_type": "code",
   "execution_count": 29,
   "metadata": {},
   "outputs": [
    {
     "data": {
      "text/plain": [
       "7-element Array{Float64,1}:\n",
       "     0.21994117865555426   \n",
       "     0.40304266381254017   \n",
       "     1.0508625242162588    \n",
       "     0.704039564266747     \n",
       "     0.00023399989781809765\n",
       " 18460.961499151363        \n",
       "     0.12604               "
      ]
     },
     "execution_count": 29,
     "metadata": {},
     "output_type": "execute_result"
    }
   ],
   "source": [
    "temp = [temp ; l0]"
   ]
  },
  {
   "cell_type": "code",
   "execution_count": 30,
   "metadata": {},
   "outputs": [
    {
     "data": {
      "text/plain": [
       "6-element Array{Float64,1}:\n",
       " 0.27061879954682805 \n",
       " 0.08590204004523055 \n",
       " 0.09897097536608156 \n",
       " 0.16056153007033436 \n",
       " 0.002927189234496708\n",
       " 0.13587112091666634 "
      ]
     },
     "execution_count": 30,
     "metadata": {},
     "output_type": "execute_result"
    }
   ],
   "source": [
    "vev = sqrt(temp[6]/2/temp[7])/1000\n",
    "mw = sqrt(temp[2])/2*vev\n",
    "mz = sqrt(temp[2]+temp[1]*3/5)/2*vev\n",
    "mt = sqrt(temp[4]/2)*vev\n",
    "mb = sqrt(temp[5]/2)*vev\n",
    "mh = sqrt(temp[6])/1000\n",
    "[vev ; mw ; mz ; mt ; mb ; mh]"
   ]
  },
  {
   "cell_type": "code",
   "execution_count": null,
   "metadata": {},
   "outputs": [],
   "source": []
  },
  {
   "cell_type": "code",
   "execution_count": 31,
   "metadata": {},
   "outputs": [
    {
     "data": {
      "text/plain": [
       "retcode: Success\n",
       "Interpolation: 3rd order Hermite\n",
       "t: 6-element Array{Float64,1}:\n",
       " 10.310509967412397\n",
       " 10.437974653540207\n",
       " 11.49142979475892 \n",
       " 13.532908699913262\n",
       " 16.145031240435433\n",
       " 18.420680743952367\n",
       "u: 6-element Array{Array{Float64,1},1}:\n",
       " [0.213965, 0.419632, 1.36096, 0.877782, 0.00031253, 17305.4] \n",
       " [0.214116, 0.419182, 1.35057, 0.872108, 0.000309885, 17338.1]\n",
       " [0.215378, 0.415503, 1.27045, 0.828026, 0.000289511, 17602.8]\n",
       " [0.217865, 0.408553, 1.13944, 0.754669, 0.000256332, 18087.9]\n",
       " [0.221132, 0.399993, 1.00663, 0.678411, 0.000222884, 18663.6]\n",
       " [0.22406, 0.392823, 0.913838, 0.623795, 0.000199644, 19130.8]"
      ]
     },
     "execution_count": 31,
     "metadata": {},
     "output_type": "execute_result"
    }
   ],
   "source": [
    "prob = ODEProblem(running, initial, (2*log(obsmt),2*log(maxmu)), coeff)\n",
    "sol = solve(prob,reltol=1e-6,abstol=1e-6)"
   ]
  },
  {
   "cell_type": "code",
   "execution_count": 32,
   "metadata": {},
   "outputs": [],
   "source": [
    "nn = 100;\n",
    "gtable = zeros(6,nn)\n",
    "logx = collect(range(log(obsmt),stop=log(maxmu),length=nn))\n",
    "x = exp.(logx)\n",
    "for i=1:100\n",
    "    temp = sol(2*logx[i])\n",
    "    gtable[1:5,i] = sqrt.(temp[1:5])\n",
    "    gtable[6,i] = temp[6]\n",
    "end"
   ]
  },
  {
   "cell_type": "code",
   "execution_count": 33,
   "metadata": {},
   "outputs": [
    {
     "data": {
      "image/png": "[encoded data removed]",
      "text/plain": [
       "Figure(PyObject <Figure size 640x480 with 1 Axes>)"
      ]
     },
     "metadata": {},
     "output_type": "display_data"
    },
    {
     "data": {
      "text/plain": [
       "PyObject <matplotlib.legend.Legend object at 0x7f12489874e0>"
      ]
     },
     "execution_count": 33,
     "metadata": {},
     "output_type": "execute_result"
    }
   ],
   "source": [
    "fig, ax = subplots()\n",
    "ax[:semilogx](x,gtable[3,:], color=\"r\",linestyle=\"--\",label=L\"g_3\")\n",
    "ax[:semilogx](x,gtable[2,:], color=\"g\",linestyle=\"--\",label=L\"g_2\")\n",
    "ax[:semilogx](x,gtable[1,:], color=\"b\",linestyle=\"--\",label=L\"g_1\")\n",
    "ax[:semilogx](x,gtable[4,:], color=\"r\",linestyle=\"-\",label=L\"y_t\")\n",
    "ax[:semilogx](x,gtable[5,:]/1000, color=\"k\",linestyle=\"-\",label=L\"$m_h$ in TeV\")\n",
    "ax[:semilogx](x,gtable[6,:], color=\"b\",linestyle=\"-\",label=L\"\\lambda\")\n",
    "\n",
    "ax[:tick_params](\"both\",labelsize=15) \n",
    "\n",
    "xlabel(L\"RGE scale $\\mu $ [GeV]\", fontsize=15)\n",
    "ax[:legend](bbox_to_anchor=(1.05, 1), loc=2, borderaxespad=0., fancybox=1)\n",
    "# ax[:legend](borderaxespad=0.4, fancybox=1)"
   ]
  },
  {
   "cell_type": "code",
   "execution_count": 34,
   "metadata": {},
   "outputs": [
    {
     "data": {
      "text/plain": [
       "8-element Array{Float64,1}:\n",
       "     0.22004671021684202  \n",
       "     0.4035434027496434   \n",
       "     1.0443272301161644   \n",
       "     0.6874960486065573   \n",
       "     0.0003340031506860443\n",
       " 17305.402500000004       \n",
       " 17305.402500000004       \n",
       "     0.12604              "
      ]
     },
     "execution_count": 34,
     "metadata": {},
     "output_type": "execute_result"
    }
   ],
   "source": [
    "running = y2\n",
    "prob = ODEProblem(running, initial, muspan, [0.,0.,0.12604])\n",
    "sol = solve(prob,reltol=1e-6,abstol=1e-6)\n",
    "temp = [sol(2*log(2000)) ; m0^2 ; l0]"
   ]
  },
  {
   "cell_type": "code",
   "execution_count": 35,
   "metadata": {},
   "outputs": [
    {
     "data": {
      "text/plain": [
       "5-element Array{Float64,1}:\n",
       " 9.823571976455971e-8 \n",
       " 3.1202152974470754e-8\n",
       " 3.594579856008362e-8 \n",
       " 5.7595630504540935e-8\n",
       " 1.8275753081228806e-5"
      ]
     },
     "execution_count": 35,
     "metadata": {},
     "output_type": "execute_result"
    }
   ],
   "source": [
    "vev = sqrt(temp[5]/2/temp[6])/1000\n",
    "mw = sqrt(temp[2])/2*vev\n",
    "mz = sqrt(temp[2]+temp[1]*3/5)/2*vev\n",
    "mt = sqrt(temp[4]/2)*vev\n",
    "mh = sqrt(temp[5])/1000\n",
    "[vev ; mw ; mz ; mt ; mh]"
   ]
  },
  {
   "cell_type": "code",
   "execution_count": null,
   "metadata": {},
   "outputs": [],
   "source": []
  }
 ],
 "metadata": {
  "kernelspec": {
   "display_name": "Julia 1.0.3",
   "language": "julia",
   "name": "julia-1.0"
  },
  "language_info": {
   "file_extension": ".jl",
   "mimetype": "application/julia",
   "name": "julia",
   "version": "1.0.3"
  }
 },
 "nbformat": 4,
 "nbformat_minor": 2
}
