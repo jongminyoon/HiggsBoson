{
 "cells": [
  {
   "cell_type": "code",
   "execution_count": 1,
   "metadata": {},
   "outputs": [
    {
     "name": "stdout",
     "output_type": "stream",
     "text": [
      "Julia Version 1.0.3\n",
      "Commit 099e826241 (2018-12-18 01:34 UTC)\n",
      "Platform Info:\n",
      "  OS: Linux (x86_64-pc-linux-gnu)\n",
      "  CPU: Intel(R) Core(TM) i5-8250U CPU @ 1.60GHz\n",
      "  WORD_SIZE: 64\n",
      "  LIBM: libopenlibm\n",
      "  LLVM: libLLVM-6.0.0 (ORCJIT, skylake)\n"
     ]
    }
   ],
   "source": [
    "versioninfo()"
   ]
  },
  {
   "cell_type": "code",
   "execution_count": 2,
   "metadata": {},
   "outputs": [],
   "source": [
    "using DifferentialEquations, ParameterizedFunctions, PyPlot"
   ]
  },
  {
   "cell_type": "code",
   "execution_count": 3,
   "metadata": {},
   "outputs": [],
   "source": [
    "g31 = @ode_def g3oneloop begin\n",
    "    # note all couplings are for squared, i.e. \"g1\"==g1^2, except l = lambda\n",
    "    # note g1^2 = 5/3*gy^2\n",
    "    dg3 = g3^2/(4*pi)^2*(-7)\n",
    "end\n",
    ";"
   ]
  },
  {
   "cell_type": "code",
   "execution_count": 4,
   "metadata": {},
   "outputs": [],
   "source": [
    "obsmt = 173.34\n",
    "g30 = 1.1666\n",
    "vev = 246\n",
    "yt0 = 0.93690\n",
    ";"
   ]
  },
  {
   "cell_type": "code",
   "execution_count": 5,
   "metadata": {},
   "outputs": [
    {
     "data": {
      "text/plain": [
       "1×2 Array{Float64,2}:\n",
       " 1.1666  1.57142"
      ]
     },
     "execution_count": 5,
     "metadata": {},
     "output_type": "execute_result"
    }
   ],
   "source": [
    "running = g31\n",
    "prob = ODEProblem(running, [g30^2], (2*log(obsmt),2*log(4.2)))\n",
    "sol = solve(prob,reltol=1e-6,abstol=1e-6)\n",
    "sqrt.([sol[1] sol[end]])"
   ]
  },
  {
   "cell_type": "code",
   "execution_count": 6,
   "metadata": {},
   "outputs": [
    {
     "data": {
      "text/plain": [
       "1×2 Array{Float64,2}:\n",
       " 3.07789  0.0176943"
      ]
     },
     "execution_count": 6,
     "metadata": {},
     "output_type": "execute_result"
    }
   ],
   "source": [
    "b0 = 11-2/3*5;\n",
    "mb0 = 4.2*(sol[end][1]/sol[1][1])^(-4/b0)\n",
    "yb0 = sqrt(2)*mb0/vev\n",
    "[mb0 yb0]"
   ]
  },
  {
   "cell_type": "code",
   "execution_count": 7,
   "metadata": {},
   "outputs": [
    {
     "data": {
      "text/plain": [
       "0.010214876058692106"
      ]
     },
     "execution_count": 7,
     "metadata": {},
     "output_type": "execute_result"
    }
   ],
   "source": [
    "mtau0 = 1.77686\n",
    "ytau0 = sqrt(2)*mtau0/vev"
   ]
  },
  {
   "cell_type": "code",
   "execution_count": 8,
   "metadata": {},
   "outputs": [],
   "source": [
    "b1 = @ode_def oneloop begin\n",
    "    # note all couplings are for squared, i.e. \"g1\"==g1^2, except l = lambda\n",
    "    # note g1^2 = 5/3*gy^2\n",
    "    dg3 = g3^2/(4*pi)^2*(-7)\n",
    "    dyt = yt/(4*pi)^2*(9/2*yt +3/2*yb +ytau -8*g3)\n",
    "    dyb = yb/(4*pi)^2*(3/2*yt +9/2*yb +ytau -8*g3)\n",
    "    dytau = ytau/(4*pi)^2*(3*yt +3*yb +5/2*ytau)\n",
    "end\n",
    ";"
   ]
  },
  {
   "cell_type": "code",
   "execution_count": 9,
   "metadata": {},
   "outputs": [
    {
     "data": {
      "text/plain": [
       "3-element Array{Float64,1}:\n",
       " 0.8435139959363097  \n",
       " 0.015266079415271215\n",
       " 0.010659898336397102"
      ]
     },
     "execution_count": 9,
     "metadata": {},
     "output_type": "execute_result"
    }
   ],
   "source": [
    "running = b1\n",
    "initial = [g30^2 ; yt0^2 ; yb0^2 ; ytau0^2]\n",
    "prob = ODEProblem(running, initial, (2*log(obsmt),2*log(3000)))\n",
    "sol = solve(prob,reltol=1e-6,abstol=1e-6)\n",
    "temp = sqrt.(sol(2*log(3000)))\n",
    "(yt, yb, ytau) = temp[2:end]"
   ]
  },
  {
   "cell_type": "code",
   "execution_count": 10,
   "metadata": {},
   "outputs": [
    {
     "data": {
      "text/plain": [
       "3-element Array{Float64,1}:\n",
       " 146.72779877187233  \n",
       "   2.6555080760609773\n",
       "   1.8542708545046944"
      ]
     },
     "execution_count": 10,
     "metadata": {},
     "output_type": "execute_result"
    }
   ],
   "source": [
    "(mt, mb, mtau) = [yt, yb, ytau]*vev/sqrt(2)"
   ]
  },
  {
   "cell_type": "code",
   "execution_count": null,
   "metadata": {},
   "outputs": [],
   "source": []
  }
 ],
 "metadata": {
  "kernelspec": {
   "display_name": "Julia 1.0.3",
   "language": "julia",
   "name": "julia-1.0"
  },
  "language_info": {
   "file_extension": ".jl",
   "mimetype": "application/julia",
   "name": "julia",
   "version": "1.0.3"
  }
 },
 "nbformat": 4,
 "nbformat_minor": 2
}
