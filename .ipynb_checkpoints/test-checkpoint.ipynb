{
 "cells": [
  {
   "cell_type": "code",
   "execution_count": 1,
   "metadata": {},
   "outputs": [
    {
     "name": "stdout",
     "output_type": "stream",
     "text": [
      "nprocs() = 4\n"
     ]
    }
   ],
   "source": [
    "n_add = 4 - nprocs()\n",
    "addprocs(n_add)\n",
    "@show nprocs()\n",
    ";"
   ]
  },
  {
   "cell_type": "code",
   "execution_count": 2,
   "metadata": {},
   "outputs": [
    {
     "name": "stderr",
     "output_type": "stream",
     "text": [
      "WARNING: Method definition ==(Base.Nullable{S}, Base.Nullable{T}) in module Base at nullable.jl:238 overwritten in module NullableArrays at /home/jmyoon/.julia/v0.6/NullableArrays/src/operators.jl:99.\n",
      "WARNING: Method definition ==(Base.Nullable{S}, Base.Nullable{T}) in module Base at nullable.jl:238 overwritten in module NullableArrays at /home/jmyoon/.julia/v0.6/NullableArrays/src/operators.jl:99.\n",
      "WARNING: Method definition ==(Base.Nullable{S}, Base.Nullable{T}) in module Base at nullable.jl:238 overwritten in module NullableArrays at /home/jmyoon/.julia/v0.6/NullableArrays/src/operators.jl:99.\n",
      "WARNING: Method definition ==(Base.Nullable{S}, Base.Nullable{T}) in module Base at nullable.jl:238 overwritten in module NullableArrays at /home/jmyoon/.julia/v0.6/NullableArrays/src/operators.jl:99.\n"
     ]
    }
   ],
   "source": [
    "include(\"packages.jl\");\n",
    "@everywhere include(\"so5.jl\");"
   ]
  },
  {
   "cell_type": "code",
   "execution_count": 3,
   "metadata": {},
   "outputs": [],
   "source": [
    "# mutable struct Params\n",
    "#     zR::Float64\n",
    "#     ctop::Float64\n",
    "#     cvar::Float64\n",
    "#     aL::Float64\n",
    "#     aB::Float64\n",
    "#     af::Float64\n",
    "#     minphi::Float64\n",
    "#     mh::Float64\n",
    "#     f::Float64\n",
    "# end"
   ]
  },
  {
   "cell_type": "code",
   "execution_count": 11,
   "metadata": {},
   "outputs": [],
   "source": [
    "@everywhere begin\n",
    "    arg1 = Params(0.,0.,0.,0.,0.,0.,0.,0.,0.)\n",
    "    len = 16\n",
    "    ctop = collect(linspace(0.2,0.5,len))\n",
    "end\n",
    "cT = SharedArray{Float64,1}(len)\n",
    "minphi = SharedArray{Float64,1}(len)\n",
    "zR = SharedArray{Float64,1}(len)\n",
    "higgsmass = SharedArray{Float64,1}(len)\n",
    ";"
   ]
  },
  {
   "cell_type": "code",
   "execution_count": null,
   "metadata": {},
   "outputs": [
    {
     "name": "stdout",
     "output_type": "stream",
     "text": [
      "\tFrom worker 3:\tctop = 0.32 : cT = 0.33513, minphi = 0.009303, zR = 0.05867, mh = 0.13575\n",
      "\tFrom worker 4:\tctop = 0.42 : cT = 0.44172, minphi = 0.015396, zR = 0.08541, mh = 0.13570\n",
      "\tFrom worker 2:\tctop = 0.20 : cT = 0.20357, minphi = 0.006559, zR = 0.04588, mh = 0.13571\n",
      "\tFrom worker 3:\tctop = 0.34 : cT = 0.35661, minphi = 0.010102, zR = 0.06229, mh = 0.13571\n",
      "\tFrom worker 4:\tctop = 0.44 : cT = 0.46282, minphi = 0.017587, zR = 0.09464, mh = 0.13574\n",
      "\tFrom worker 2:\tctop = 0.22 : cT = 0.22593, minphi = 0.006850, zR = 0.04727, mh = 0.13573\n",
      "\tFrom worker 3:\tctop = 0.36 : cT = 0.37801, minphi = 0.011015, zR = 0.06630, mh = 0.13573\n",
      "\tFrom worker 4:\tctop = 0.46 : cT = 0.48387, minphi = 0.020435, zR = 0.10649, mh = 0.13572\n",
      "\tFrom worker 4:\tctop = 0.48 : cT = 0.50488, minphi = 0.024163, zR = 0.12174, mh = 0.13570\n",
      "\tFrom worker 2:\tctop = 0.24 : cT = 0.24807, minphi = 0.007165, zR = 0.04870, mh = 0.13575\n",
      "\tFrom worker 4:\tctop = 0.50 : cT = 0.52588, minphi = 0.028998, zR = 0.14101, mh = 0.13571\n"
     ]
    }
   ],
   "source": [
    "@time @sync @parallel for i=1:len\n",
    "    arg1.ctop = ctop[i]\n",
    "    arg1.aL = findaL(arg1)\n",
    "    arg1.aB = arg1.aL\n",
    "    solve(arg1)\n",
    "    @printf \"ctop = %.2f : \" ctop[i]\n",
    "    printsolve(arg1)    \n",
    "    cT[i] = arg1.cvar\n",
    "    minphi[i] = arg1.minphi\n",
    "    zR[i] = arg1.zR\n",
    "    higgsmass[i] = arg1.mh\n",
    "end\n",
    ";"
   ]
  },
  {
   "cell_type": "code",
   "execution_count": 18,
   "metadata": {},
   "outputs": [
    {
     "data": {
      "text/html": [
       "<table class=\"data-frame\"><thead><tr><th></th><th>ctop</th><th>cT</th><th>minphi</th><th>zR</th><th>mh</th></tr></thead><tbody><tr><th>1</th><td>0.2</td><td>0.20356929302215576</td><td>0.006558565732098742</td><td>0.0458830334635514</td><td>0.13571117467551824</td></tr><tr><th>2</th><td>0.22</td><td>0.22592735290527344</td><td>0.0068500711102973755</td><td>0.04727080794931057</td><td>0.13572573032728882</td></tr><tr><th>3</th><td>0.24</td><td>0.24806594848632812</td><td>0.007165248283913058</td><td>0.04870487962493345</td><td>0.1357511722597547</td></tr><tr><th>4</th><td>0.26</td><td>0.2700338363647461</td><td>0.007627879234823279</td><td>0.05099948973473541</td><td>0.13574865276465709</td></tr><tr><th>5</th><td>0.28</td><td>0.2918510437011719</td><td>0.008058163462784132</td><td>0.052915933775544086</td><td>0.13573674829278445</td></tr><tr><th>6</th><td>0.3</td><td>0.31354522705078125</td><td>0.008623096645435528</td><td>0.05553390171600091</td><td>0.135701300257708</td></tr><tr><th>7</th><td>0.32</td><td>0.3351287841796875</td><td>0.00930284786129253</td><td>0.05866798833682731</td><td>0.1357461282121216</td></tr><tr><th>8</th><td>0.34</td><td>0.3566131591796875</td><td>0.010101671494986223</td><td>0.0622880338533353</td><td>0.13571302455180592</td></tr><tr><th>9</th><td>0.36</td><td>0.3780050277709961</td><td>0.011014773518247195</td><td>0.06630395977902456</td><td>0.13572525657575388</td></tr><tr><th>10</th><td>0.38</td><td>0.39931678771972656</td><td>0.012212501934479782</td><td>0.07165355599328473</td><td>0.135729546523014</td></tr><tr><th>11</th><td>0.4</td><td>0.4205513000488281</td><td>0.013646065580714916</td><td>0.07791462657193544</td><td>0.1357151628341798</td></tr><tr><th>12</th><td>0.42</td><td>0.4417152404785156</td><td>0.015395551934990126</td><td>0.08540576152000082</td><td>0.13570171423890584</td></tr><tr><th>13</th><td>0.44</td><td>0.4628162384033203</td><td>0.01758701595541053</td><td>0.09463669326600183</td><td>0.13574314422689163</td></tr><tr><th>14</th><td>0.46</td><td>0.4838676452636719</td><td>0.02043478474923972</td><td>0.10648805612012276</td><td>0.13571793693535122</td></tr><tr><th>15</th><td>0.48</td><td>0.5048828125</td><td>0.024163236980399745</td><td>0.12173898323082138</td><td>0.13570440644876852</td></tr><tr><th>16</th><td>0.5</td><td>0.52587890625</td><td>0.028997786980975247</td><td>0.14101148305637293</td><td>0.13571426371674786</td></tr></tbody></table>"
      ],
      "text/plain": [
       "16×5 DataFrames.DataFrame\n",
       "│ Row │ ctop │ cT       │ minphi     │ zR        │ mh       │\n",
       "├─────┼──────┼──────────┼────────────┼───────────┼──────────┤\n",
       "│ 1   │ 0.2  │ 0.203569 │ 0.00655857 │ 0.045883  │ 0.135711 │\n",
       "│ 2   │ 0.22 │ 0.225927 │ 0.00685007 │ 0.0472708 │ 0.135726 │\n",
       "│ 3   │ 0.24 │ 0.248066 │ 0.00716525 │ 0.0487049 │ 0.135751 │\n",
       "│ 4   │ 0.26 │ 0.270034 │ 0.00762788 │ 0.0509995 │ 0.135749 │\n",
       "│ 5   │ 0.28 │ 0.291851 │ 0.00805816 │ 0.0529159 │ 0.135737 │\n",
       "│ 6   │ 0.3  │ 0.313545 │ 0.0086231  │ 0.0555339 │ 0.135701 │\n",
       "│ 7   │ 0.32 │ 0.335129 │ 0.00930285 │ 0.058668  │ 0.135746 │\n",
       "│ 8   │ 0.34 │ 0.356613 │ 0.0101017  │ 0.062288  │ 0.135713 │\n",
       "│ 9   │ 0.36 │ 0.378005 │ 0.0110148  │ 0.066304  │ 0.135725 │\n",
       "│ 10  │ 0.38 │ 0.399317 │ 0.0122125  │ 0.0716536 │ 0.13573  │\n",
       "│ 11  │ 0.4  │ 0.420551 │ 0.0136461  │ 0.0779146 │ 0.135715 │\n",
       "│ 12  │ 0.42 │ 0.441715 │ 0.0153956  │ 0.0854058 │ 0.135702 │\n",
       "│ 13  │ 0.44 │ 0.462816 │ 0.017587   │ 0.0946367 │ 0.135743 │\n",
       "│ 14  │ 0.46 │ 0.483868 │ 0.0204348  │ 0.106488  │ 0.135718 │\n",
       "│ 15  │ 0.48 │ 0.504883 │ 0.0241632  │ 0.121739  │ 0.135704 │\n",
       "│ 16  │ 0.5  │ 0.525879 │ 0.0289978  │ 0.141011  │ 0.135714 │"
      ]
     },
     "execution_count": 18,
     "metadata": {},
     "output_type": "execute_result"
    }
   ],
   "source": [
    "df = DataFrame()\n",
    "df[:ctop] = ctop;\n",
    "df[:cT] = Array(cT)\n",
    "df[:minphi] = Array(minphi)\n",
    "df[:zR] = Array(zR)\n",
    "df[:mh] = Array(higgsmass)\n",
    "CSV.write(\"temp.csv\", df)\n",
    "\n",
    "df"
   ]
  },
  {
   "cell_type": "code",
   "execution_count": 13,
   "metadata": {},
   "outputs": [
    {
     "data": {
      "text/html": [
       "<table class=\"data-frame\"><thead><tr><th></th><th>ctop</th><th>cTopPartner</th></tr></thead><tbody><tr><th>1</th><td>0.2</td><td>1</td></tr><tr><th>2</th><td>0.22</td><td>4</td></tr><tr><th>3</th><td>0.24</td><td>9</td></tr><tr><th>4</th><td>0.26</td><td>10000</td></tr><tr><th>5</th><td>0.28</td><td>25</td></tr><tr><th>6</th><td>0.3</td><td>36</td></tr><tr><th>7</th><td>0.32</td><td>49</td></tr><tr><th>8</th><td>0.34</td><td>64</td></tr><tr><th>9</th><td>0.36</td><td>81</td></tr><tr><th>10</th><td>0.38</td><td>100</td></tr><tr><th>11</th><td>0.4</td><td>121</td></tr><tr><th>12</th><td>0.42</td><td>144</td></tr><tr><th>13</th><td>0.44</td><td>169</td></tr><tr><th>14</th><td>0.46</td><td>196</td></tr><tr><th>15</th><td>0.48</td><td>225</td></tr><tr><th>16</th><td>0.5</td><td>256</td></tr></tbody></table>"
      ],
      "text/plain": [
       "16×2 DataFrames.DataFrame\n",
       "│ Row │ ctop │ cTopPartner │\n",
       "├─────┼──────┼─────────────┤\n",
       "│ 1   │ 0.2  │ 1           │\n",
       "│ 2   │ 0.22 │ 4           │\n",
       "│ 3   │ 0.24 │ 9           │\n",
       "│ 4   │ 0.26 │ 10000       │\n",
       "│ 5   │ 0.28 │ 25          │\n",
       "│ 6   │ 0.3  │ 36          │\n",
       "│ 7   │ 0.32 │ 49          │\n",
       "│ 8   │ 0.34 │ 64          │\n",
       "│ 9   │ 0.36 │ 81          │\n",
       "│ 10  │ 0.38 │ 100         │\n",
       "│ 11  │ 0.4  │ 121         │\n",
       "│ 12  │ 0.42 │ 144         │\n",
       "│ 13  │ 0.44 │ 169         │\n",
       "│ 14  │ 0.46 │ 196         │\n",
       "│ 15  │ 0.48 │ 225         │\n",
       "│ 16  │ 0.5  │ 256         │"
      ]
     },
     "execution_count": 13,
     "metadata": {},
     "output_type": "execute_result"
    }
   ],
   "source": [
    "data = CSV.read(\"temp.csv\", nullable = false)\n",
    "data"
   ]
  },
  {
   "cell_type": "code",
   "execution_count": 50,
   "metadata": {},
   "outputs": [],
   "source": [
    "using Plots"
   ]
  },
  {
   "cell_type": "code",
   "execution_count": 64,
   "metadata": {},
   "outputs": [
    {
     "data": {
      "text/html": [
       "<?xml version=\"1.0\" encoding=\"utf-8\"?>\n",
       "<svg xmlns=\"http://www.w3.org/2000/svg\" xmlns:xlink=\"http://www.w3.org/1999/xlink\" width=\"600\" height=\"400\" viewBox=\"0 0 600 400\">\n",
       "<defs>\n",
       "  <clipPath id=\"clip9400\">\n",
       "    <rect x=\"0\" y=\"0\" width=\"600\" height=\"400\"/>\n",
       "  </clipPath>\n",
       "</defs>\n",
       "<polygon clip-path=\"url(#clip9400)\" points=\"\n",
       "0,400 600,400 600,0 0,0 \n",
       "  \" fill=\"#ffffff\" fill-opacity=\"1\"/>\n",
       "<defs>\n",
       "  <clipPath id=\"clip9401\">\n",
       "    <rect x=\"120\" y=\"0\" width=\"421\" height=\"400\"/>\n",
       "  </clipPath>\n",
       "</defs>\n",
       "<polygon clip-path=\"url(#clip9400)\" points=\"\n",
       "52.3228,375.813 580.315,375.813 580.315,11.811 52.3228,11.811 \n",
       "  \" fill=\"#ffffff\" fill-opacity=\"1\"/>\n",
       "<defs>\n",
       "  <clipPath id=\"clip9402\">\n",
       "    <rect x=\"52\" y=\"11\" width=\"529\" height=\"365\"/>\n",
       "  </clipPath>\n",
       "</defs>\n",
       "<polyline clip-path=\"url(#clip9402)\" style=\"stroke:#000000; stroke-width:0.5; stroke-opacity:0.1; fill:none\" points=\"\n",
       "  157.075,375.813 157.075,11.811 \n",
       "  \"/>\n",
       "<polyline clip-path=\"url(#clip9402)\" style=\"stroke:#000000; stroke-width:0.5; stroke-opacity:0.1; fill:none\" points=\"\n",
       "  262.885,375.813 262.885,11.811 \n",
       "  \"/>\n",
       "<polyline clip-path=\"url(#clip9402)\" style=\"stroke:#000000; stroke-width:0.5; stroke-opacity:0.1; fill:none\" points=\"\n",
       "  368.695,375.813 368.695,11.811 \n",
       "  \"/>\n",
       "<polyline clip-path=\"url(#clip9402)\" style=\"stroke:#000000; stroke-width:0.5; stroke-opacity:0.1; fill:none\" points=\"\n",
       "  474.505,375.813 474.505,11.811 \n",
       "  \"/>\n",
       "<polyline clip-path=\"url(#clip9402)\" style=\"stroke:#000000; stroke-width:0.5; stroke-opacity:0.1; fill:none\" points=\"\n",
       "  580.315,375.813 580.315,11.811 \n",
       "  \"/>\n",
       "<polyline clip-path=\"url(#clip9402)\" style=\"stroke:#000000; stroke-width:0.5; stroke-opacity:0.1; fill:none\" points=\"\n",
       "  52.3228,358.178 580.315,358.178 \n",
       "  \"/>\n",
       "<polyline clip-path=\"url(#clip9402)\" style=\"stroke:#000000; stroke-width:0.5; stroke-opacity:0.1; fill:none\" points=\"\n",
       "  52.3228,308.4 580.315,308.4 \n",
       "  \"/>\n",
       "<polyline clip-path=\"url(#clip9402)\" style=\"stroke:#000000; stroke-width:0.5; stroke-opacity:0.1; fill:none\" points=\"\n",
       "  52.3228,258.622 580.315,258.622 \n",
       "  \"/>\n",
       "<polyline clip-path=\"url(#clip9402)\" style=\"stroke:#000000; stroke-width:0.5; stroke-opacity:0.1; fill:none\" points=\"\n",
       "  52.3228,208.844 580.315,208.844 \n",
       "  \"/>\n",
       "<polyline clip-path=\"url(#clip9402)\" style=\"stroke:#000000; stroke-width:0.5; stroke-opacity:0.1; fill:none\" points=\"\n",
       "  52.3228,159.066 580.315,159.066 \n",
       "  \"/>\n",
       "<polyline clip-path=\"url(#clip9402)\" style=\"stroke:#000000; stroke-width:0.5; stroke-opacity:0.1; fill:none\" points=\"\n",
       "  52.3228,109.288 580.315,109.288 \n",
       "  \"/>\n",
       "<polyline clip-path=\"url(#clip9402)\" style=\"stroke:#000000; stroke-width:0.5; stroke-opacity:0.1; fill:none\" points=\"\n",
       "  52.3228,59.5102 580.315,59.5102 \n",
       "  \"/>\n",
       "<polyline clip-path=\"url(#clip9400)\" style=\"stroke:#000000; stroke-width:1; stroke-opacity:1; fill:none\" points=\"\n",
       "  52.3228,375.813 580.315,375.813 \n",
       "  \"/>\n",
       "<polyline clip-path=\"url(#clip9400)\" style=\"stroke:#000000; stroke-width:1; stroke-opacity:1; fill:none\" points=\"\n",
       "  52.3228,375.813 52.3228,11.811 \n",
       "  \"/>\n",
       "<polyline clip-path=\"url(#clip9400)\" style=\"stroke:#000000; stroke-width:1; stroke-opacity:1; fill:none\" points=\"\n",
       "  157.075,375.813 157.075,370.353 \n",
       "  \"/>\n",
       "<polyline clip-path=\"url(#clip9400)\" style=\"stroke:#000000; stroke-width:1; stroke-opacity:1; fill:none\" points=\"\n",
       "  262.885,375.813 262.885,370.353 \n",
       "  \"/>\n",
       "<polyline clip-path=\"url(#clip9400)\" style=\"stroke:#000000; stroke-width:1; stroke-opacity:1; fill:none\" points=\"\n",
       "  368.695,375.813 368.695,370.353 \n",
       "  \"/>\n",
       "<polyline clip-path=\"url(#clip9400)\" style=\"stroke:#000000; stroke-width:1; stroke-opacity:1; fill:none\" points=\"\n",
       "  474.505,375.813 474.505,370.353 \n",
       "  \"/>\n",
       "<polyline clip-path=\"url(#clip9400)\" style=\"stroke:#000000; stroke-width:1; stroke-opacity:1; fill:none\" points=\"\n",
       "  580.315,375.813 580.315,370.353 \n",
       "  \"/>\n",
       "<polyline clip-path=\"url(#clip9400)\" style=\"stroke:#000000; stroke-width:1; stroke-opacity:1; fill:none\" points=\"\n",
       "  52.3228,358.178 60.2427,358.178 \n",
       "  \"/>\n",
       "<polyline clip-path=\"url(#clip9400)\" style=\"stroke:#000000; stroke-width:1; stroke-opacity:1; fill:none\" points=\"\n",
       "  52.3228,308.4 60.2427,308.4 \n",
       "  \"/>\n",
       "<polyline clip-path=\"url(#clip9400)\" style=\"stroke:#000000; stroke-width:1; stroke-opacity:1; fill:none\" points=\"\n",
       "  52.3228,258.622 60.2427,258.622 \n",
       "  \"/>\n",
       "<polyline clip-path=\"url(#clip9400)\" style=\"stroke:#000000; stroke-width:1; stroke-opacity:1; fill:none\" points=\"\n",
       "  52.3228,208.844 60.2427,208.844 \n",
       "  \"/>\n",
       "<polyline clip-path=\"url(#clip9400)\" style=\"stroke:#000000; stroke-width:1; stroke-opacity:1; fill:none\" points=\"\n",
       "  52.3228,159.066 60.2427,159.066 \n",
       "  \"/>\n",
       "<polyline clip-path=\"url(#clip9400)\" style=\"stroke:#000000; stroke-width:1; stroke-opacity:1; fill:none\" points=\"\n",
       "  52.3228,109.288 60.2427,109.288 \n",
       "  \"/>\n",
       "<polyline clip-path=\"url(#clip9400)\" style=\"stroke:#000000; stroke-width:1; stroke-opacity:1; fill:none\" points=\"\n",
       "  52.3228,59.5102 60.2427,59.5102 \n",
       "  \"/>\n",
       "<g clip-path=\"url(#clip9400)\">\n",
       "<text style=\"fill:#000000; fill-opacity:1; font-family:Arial,Helvetica Neue,Helvetica,sans-serif; font-size:12; text-anchor:middle;\" transform=\"rotate(0, 157.075, 389.613)\" x=\"157.075\" y=\"389.613\">0.1</text>\n",
       "</g>\n",
       "<g clip-path=\"url(#clip9400)\">\n",
       "<text style=\"fill:#000000; fill-opacity:1; font-family:Arial,Helvetica Neue,Helvetica,sans-serif; font-size:12; text-anchor:middle;\" transform=\"rotate(0, 262.885, 389.613)\" x=\"262.885\" y=\"389.613\">0.2</text>\n",
       "</g>\n",
       "<g clip-path=\"url(#clip9400)\">\n",
       "<text style=\"fill:#000000; fill-opacity:1; font-family:Arial,Helvetica Neue,Helvetica,sans-serif; font-size:12; text-anchor:middle;\" transform=\"rotate(0, 368.695, 389.613)\" x=\"368.695\" y=\"389.613\">0.3</text>\n",
       "</g>\n",
       "<g clip-path=\"url(#clip9400)\">\n",
       "<text style=\"fill:#000000; fill-opacity:1; font-family:Arial,Helvetica Neue,Helvetica,sans-serif; font-size:12; text-anchor:middle;\" transform=\"rotate(0, 474.505, 389.613)\" x=\"474.505\" y=\"389.613\">0.4</text>\n",
       "</g>\n",
       "<g clip-path=\"url(#clip9400)\">\n",
       "<text style=\"fill:#000000; fill-opacity:1; font-family:Arial,Helvetica Neue,Helvetica,sans-serif; font-size:12; text-anchor:middle;\" transform=\"rotate(0, 580.315, 389.613)\" x=\"580.315\" y=\"389.613\">0.5</text>\n",
       "</g>\n",
       "<g clip-path=\"url(#clip9400)\">\n",
       "<text style=\"fill:#000000; fill-opacity:1; font-family:Arial,Helvetica Neue,Helvetica,sans-serif; font-size:12; text-anchor:end;\" transform=\"rotate(0, 46.3228, 362.678)\" x=\"46.3228\" y=\"362.678\">-0.106</text>\n",
       "</g>\n",
       "<g clip-path=\"url(#clip9400)\">\n",
       "<text style=\"fill:#000000; fill-opacity:1; font-family:Arial,Helvetica Neue,Helvetica,sans-serif; font-size:12; text-anchor:end;\" transform=\"rotate(0, 46.3228, 312.9)\" x=\"46.3228\" y=\"312.9\">-0.104</text>\n",
       "</g>\n",
       "<g clip-path=\"url(#clip9400)\">\n",
       "<text style=\"fill:#000000; fill-opacity:1; font-family:Arial,Helvetica Neue,Helvetica,sans-serif; font-size:12; text-anchor:end;\" transform=\"rotate(0, 46.3228, 263.122)\" x=\"46.3228\" y=\"263.122\">-0.102</text>\n",
       "</g>\n",
       "<g clip-path=\"url(#clip9400)\">\n",
       "<text style=\"fill:#000000; fill-opacity:1; font-family:Arial,Helvetica Neue,Helvetica,sans-serif; font-size:12; text-anchor:end;\" transform=\"rotate(0, 46.3228, 213.344)\" x=\"46.3228\" y=\"213.344\">-0.100</text>\n",
       "</g>\n",
       "<g clip-path=\"url(#clip9400)\">\n",
       "<text style=\"fill:#000000; fill-opacity:1; font-family:Arial,Helvetica Neue,Helvetica,sans-serif; font-size:12; text-anchor:end;\" transform=\"rotate(0, 46.3228, 163.566)\" x=\"46.3228\" y=\"163.566\">-0.098</text>\n",
       "</g>\n",
       "<g clip-path=\"url(#clip9400)\">\n",
       "<text style=\"fill:#000000; fill-opacity:1; font-family:Arial,Helvetica Neue,Helvetica,sans-serif; font-size:12; text-anchor:end;\" transform=\"rotate(0, 46.3228, 113.788)\" x=\"46.3228\" y=\"113.788\">-0.096</text>\n",
       "</g>\n",
       "<g clip-path=\"url(#clip9400)\">\n",
       "<text style=\"fill:#000000; fill-opacity:1; font-family:Arial,Helvetica Neue,Helvetica,sans-serif; font-size:12; text-anchor:end;\" transform=\"rotate(0, 46.3228, 64.0102)\" x=\"46.3228\" y=\"64.0102\">-0.094</text>\n",
       "</g>\n",
       "<polyline clip-path=\"url(#clip9402)\" style=\"stroke:#009af9; stroke-width:1; stroke-opacity:1; fill:none\" points=\"\n",
       "  52.3228,11.811 80.1119,88.558 107.901,155.807 135.69,213.793 163.479,262.645 191.268,302.5 219.057,333.522 246.846,355.913 274.635,369.916 302.424,375.813 \n",
       "  330.213,373.927 358.002,364.614 385.792,348.264 413.581,325.296 441.37,296.156 469.159,261.309 496.948,221.24 524.737,176.443 552.526,127.423 580.315,74.6899 \n",
       "  \n",
       "  \"/>\n",
       "<polygon clip-path=\"url(#clip9400)\" points=\"\n",
       "489.799,62.931 562.315,62.931 562.315,32.691 489.799,32.691 \n",
       "  \" fill=\"#ffffff\" fill-opacity=\"1\"/>\n",
       "<polyline clip-path=\"url(#clip9400)\" style=\"stroke:#000000; stroke-width:1; stroke-opacity:1; fill:none\" points=\"\n",
       "  489.799,62.931 562.315,62.931 562.315,32.691 489.799,32.691 489.799,62.931 \n",
       "  \"/>\n",
       "<polyline clip-path=\"url(#clip9400)\" style=\"stroke:#009af9; stroke-width:1; stroke-opacity:1; fill:none\" points=\"\n",
       "  495.799,47.811 531.799,47.811 \n",
       "  \"/>\n",
       "<g clip-path=\"url(#clip9400)\">\n",
       "<text style=\"fill:#000000; fill-opacity:1; font-family:Arial,Helvetica Neue,Helvetica,sans-serif; font-size:12; text-anchor:start;\" transform=\"rotate(0, 537.799, 52.311)\" x=\"537.799\" y=\"52.311\">y1</text>\n",
       "</g>\n",
       "</svg>\n"
      ]
     },
     "execution_count": 64,
     "metadata": {},
     "output_type": "execute_result"
    }
   ],
   "source": [
    "vv = integrate(full_potential, arg1)\n",
    "t = collect(linspace(1e-3,0.5,20))\n",
    "y = vv.(t)\n",
    "plot(t,y)"
   ]
  },
  {
   "cell_type": "code",
   "execution_count": 1,
   "metadata": {},
   "outputs": [],
   "source": [
    "mutable struct Param\n",
    "    aa::Float64\n",
    "end"
   ]
  },
  {
   "cell_type": "code",
   "execution_count": 2,
   "metadata": {},
   "outputs": [
    {
     "data": {
      "text/plain": [
       "f (generic function with 1 method)"
      ]
     },
     "execution_count": 2,
     "metadata": {},
     "output_type": "execute_result"
    }
   ],
   "source": [
    "f(t::Param) = t.aa^2"
   ]
  },
  {
   "cell_type": "code",
   "execution_count": 21,
   "metadata": {},
   "outputs": [
    {
     "data": {
      "text/plain": [
       "h (generic function with 1 method)"
      ]
     },
     "execution_count": 21,
     "metadata": {},
     "output_type": "execute_result"
    }
   ],
   "source": [
    "h(x::Float64) = x^2"
   ]
  },
  {
   "cell_type": "code",
   "execution_count": 30,
   "metadata": {},
   "outputs": [
    {
     "ename": "LoadError",
     "evalue": "\u001b[91msyntax: incomplete: premature end of input\u001b[39m",
     "output_type": "error",
     "traceback": [
      "\u001b[91msyntax: incomplete: premature end of input\u001b[39m",
      "",
      "Stacktrace:",
      " [1] \u001b[1minclude_string\u001b[22m\u001b[22m\u001b[1m(\u001b[22m\u001b[22m::String, ::String\u001b[1m)\u001b[22m\u001b[22m at \u001b[1m./loading.jl:522\u001b[22m\u001b[22m"
     ]
    }
   ],
   "source": [
    "g(ff::#h, x::Float64) = ff(x)"
   ]
  },
  {
   "cell_type": "code",
   "execution_count": 27,
   "metadata": {},
   "outputs": [
    {
     "ename": "LoadError",
     "evalue": "\u001b[91mMethodError: no method matching g(::#h, ::Int64)\u001b[0m\nClosest candidates are:\n  g(::Any, \u001b[91m::Float64\u001b[39m) at In[23]:1\u001b[39m",
     "output_type": "error",
     "traceback": [
      "\u001b[91mMethodError: no method matching g(::#h, ::Int64)\u001b[0m\nClosest candidates are:\n  g(::Any, \u001b[91m::Float64\u001b[39m) at In[23]:1\u001b[39m",
      "",
      "Stacktrace:",
      " [1] \u001b[1minclude_string\u001b[22m\u001b[22m\u001b[1m(\u001b[22m\u001b[22m::String, ::String\u001b[1m)\u001b[22m\u001b[22m at \u001b[1m./loading.jl:522\u001b[22m\u001b[22m"
     ]
    }
   ],
   "source": [
    "g(h,2)"
   ]
  },
  {
   "cell_type": "code",
   "execution_count": 31,
   "metadata": {},
   "outputs": [
    {
     "data": {
      "text/plain": [
       "5-element Array{Float64,1}:\n",
       " 0.0 \n",
       " 0.15\n",
       " 0.3 \n",
       " 0.45\n",
       " 0.6 "
      ]
     },
     "execution_count": 31,
     "metadata": {},
     "output_type": "execute_result"
    }
   ],
   "source": [
    "collect(linspace(0.,0.6,5))"
   ]
  },
  {
   "cell_type": "code",
   "execution_count": 18,
   "metadata": {},
   "outputs": [
    {
     "data": {
      "text/plain": [
       "DataType"
      ]
     },
     "execution_count": 18,
     "metadata": {},
     "output_type": "execute_result"
    }
   ],
   "source": [
    "typeof(f)"
   ]
  },
  {
   "cell_type": "code",
   "execution_count": 3,
   "metadata": {},
   "outputs": [
    {
     "data": {
      "text/plain": [
       "Accumulator (generic function with 1 method)"
      ]
     },
     "execution_count": 3,
     "metadata": {},
     "output_type": "execute_result"
    }
   ],
   "source": [
    "function Accumulator(t::Param)\n",
    "   function(n2::Float64)\n",
    "       f(t) + n2\n",
    "   end\n",
    "end"
   ]
  },
  {
   "cell_type": "code",
   "execution_count": 4,
   "metadata": {},
   "outputs": [
    {
     "data": {
      "text/plain": [
       "Param(2.0)"
      ]
     },
     "execution_count": 4,
     "metadata": {},
     "output_type": "execute_result"
    }
   ],
   "source": [
    "t = Param(2)"
   ]
  },
  {
   "cell_type": "code",
   "execution_count": 5,
   "metadata": {},
   "outputs": [
    {
     "data": {
      "text/plain": [
       "Param"
      ]
     },
     "execution_count": 5,
     "metadata": {},
     "output_type": "execute_result"
    }
   ],
   "source": [
    "typeof(t)"
   ]
  },
  {
   "cell_type": "code",
   "execution_count": 6,
   "metadata": {},
   "outputs": [
    {
     "data": {
      "text/plain": [
       "2.0"
      ]
     },
     "execution_count": 6,
     "metadata": {},
     "output_type": "execute_result"
    }
   ],
   "source": [
    "t.aa"
   ]
  },
  {
   "cell_type": "code",
   "execution_count": 8,
   "metadata": {},
   "outputs": [
    {
     "data": {
      "text/plain": [
       "(::#1) (generic function with 1 method)"
      ]
     },
     "execution_count": 8,
     "metadata": {},
     "output_type": "execute_result"
    }
   ],
   "source": [
    "a = Accumulator(t)"
   ]
  },
  {
   "cell_type": "code",
   "execution_count": 9,
   "metadata": {},
   "outputs": [
    {
     "data": {
      "text/plain": [
       "##1#2{Param}"
      ]
     },
     "execution_count": 9,
     "metadata": {},
     "output_type": "execute_result"
    }
   ],
   "source": [
    "typeof(a)"
   ]
  },
  {
   "cell_type": "code",
   "execution_count": 11,
   "metadata": {},
   "outputs": [
    {
     "data": {
      "text/plain": [
       "6.0"
      ]
     },
     "execution_count": 11,
     "metadata": {},
     "output_type": "execute_result"
    }
   ],
   "source": [
    "a(2.)"
   ]
  },
  {
   "cell_type": "code",
   "execution_count": 12,
   "metadata": {},
   "outputs": [
    {
     "data": {
      "text/plain": [
       "8.0"
      ]
     },
     "execution_count": 12,
     "metadata": {},
     "output_type": "execute_result"
    }
   ],
   "source": [
    "a(4.)"
   ]
  },
  {
   "cell_type": "code",
   "execution_count": 13,
   "metadata": {},
   "outputs": [
    {
     "data": {
      "text/plain": [
       "2.0"
      ]
     },
     "execution_count": 13,
     "metadata": {},
     "output_type": "execute_result"
    }
   ],
   "source": [
    "t.aa"
   ]
  },
  {
   "cell_type": "code",
   "execution_count": 14,
   "metadata": {},
   "outputs": [
    {
     "data": {
      "text/plain": [
       "9.0"
      ]
     },
     "execution_count": 14,
     "metadata": {},
     "output_type": "execute_result"
    }
   ],
   "source": [
    "t.aa = 9."
   ]
  },
  {
   "cell_type": "code",
   "execution_count": 15,
   "metadata": {},
   "outputs": [
    {
     "name": "stdout",
     "output_type": "stream",
     "text": [
      "\t.text\n",
      "Filename: In[3]\n",
      "\tpushq\t%rbp\n",
      "\tmovq\t%rsp, %rbp\n",
      "Source line: 1\n",
      "\tmovq\t(%rdi), %rax\n",
      "\tmovsd\t(%rax), %xmm1           # xmm1 = mem[0],zero\n",
      "Source line: 3\n",
      "\tmulsd\t%xmm1, %xmm1\n",
      "\taddsd\t%xmm1, %xmm0\n",
      "\tpopq\t%rbp\n",
      "\tretq\n",
      "\tnopw\t%cs:(%rax,%rax)\n"
     ]
    }
   ],
   "source": [
    "@code_native a(1.)"
   ]
  },
  {
   "cell_type": "code",
   "execution_count": 16,
   "metadata": {},
   "outputs": [
    {
     "data": {
      "text/plain": [
       "Array{Float64,1}"
      ]
     },
     "execution_count": 16,
     "metadata": {},
     "output_type": "execute_result"
    }
   ],
   "source": [
    "typeof(zeros(3))"
   ]
  },
  {
   "cell_type": "code",
   "execution_count": null,
   "metadata": {},
   "outputs": [],
   "source": []
  },
  {
   "cell_type": "code",
   "execution_count": 9,
   "metadata": {},
   "outputs": [],
   "source": [
    "@everywhere function loop(i::Int64)\n",
    "    arg1.ctop = ctop[i]\n",
    "    arg1.aL = findaL(arg1)\n",
    "    arg1.aB = arg1.aL\n",
    "    solve(arg1)\n",
    "    @printf \"ctop = %.2f : \" ctop[i]\n",
    "    printsolve(arg1)    \n",
    "    cT[i] = arg1.cvar\n",
    "    minphi[i] = arg1.minphi\n",
    "    zR[i] = arg1.zR\n",
    "    higgsmass[i] = arg1.mh\n",
    "end\n",
    ";"
   ]
  },
  {
   "cell_type": "code",
   "execution_count": 10,
   "metadata": {},
   "outputs": [
    {
     "name": "stdout",
     "output_type": "stream",
     "text": [
      "\tFrom worker 3:\tctop = 0.22 : cT = 0.22593, minphi = 0.006850, zR = 0.04727, mh = 0.13573\n",
      "\tFrom worker 4:\tctop = 0.24 : cT = 0.24807, minphi = 0.007165, zR = 0.04870, mh = 0.13575\n",
      "\tFrom worker 2:\tctop = 0.20 : cT = 0.20357, minphi = 0.006559, zR = 0.04588, mh = 0.13571\n"
     ]
    },
    {
     "ename": "LoadError",
     "evalue": "\u001b[91mOn worker 2:\n\u001b[91mUndefVarError: cT not defined\u001b[39m\nloop at ./In[9]:8\n#106 at ./distributed/process_messages.jl:268 [inlined]\nrun_work_thunk at ./distributed/process_messages.jl:56\nmacro expansion at ./distributed/process_messages.jl:268 [inlined]\n#105 at ./event.jl:73\u001b[39m",
     "output_type": "error",
     "traceback": [
      "\u001b[91mOn worker 2:\n\u001b[91mUndefVarError: cT not defined\u001b[39m\nloop at ./In[9]:8\n#106 at ./distributed/process_messages.jl:268 [inlined]\nrun_work_thunk at ./distributed/process_messages.jl:56\nmacro expansion at ./distributed/process_messages.jl:268 [inlined]\n#105 at ./event.jl:73\u001b[39m",
      "",
      "Stacktrace:",
      " [1] \u001b[1m#571\u001b[22m\u001b[22m at \u001b[1m./asyncmap.jl:178\u001b[22m\u001b[22m [inlined]",
      " [2] \u001b[1mforeach\u001b[22m\u001b[22m\u001b[1m(\u001b[22m\u001b[22m::Base.##571#573, ::Array{Any,1}\u001b[1m)\u001b[22m\u001b[22m at \u001b[1m./abstractarray.jl:1733\u001b[22m\u001b[22m",
      " [3] \u001b[1mmaptwice\u001b[22m\u001b[22m\u001b[1m(\u001b[22m\u001b[22m::Function, ::Channel{Any}, ::Array{Any,1}, ::UnitRange{Int64}, ::Vararg{UnitRange{Int64},N} where N\u001b[1m)\u001b[22m\u001b[22m at \u001b[1m./asyncmap.jl:178\u001b[22m\u001b[22m",
      " [4] \u001b[1mwrap_n_exec_twice\u001b[22m\u001b[22m\u001b[1m(\u001b[22m\u001b[22m::Channel{Any}, ::Array{Any,1}, ::Base.Distributed.##204#207{WorkerPool}, ::Function, ::UnitRange{Int64}, ::Vararg{UnitRange{Int64},N} where N\u001b[1m)\u001b[22m\u001b[22m at \u001b[1m./asyncmap.jl:154\u001b[22m\u001b[22m",
      " [5] \u001b[1m#async_usemap#556\u001b[22m\u001b[22m\u001b[1m(\u001b[22m\u001b[22m::Function, ::Void, ::Function, ::Base.Distributed.##188#190, ::UnitRange{Int64}, ::Vararg{UnitRange{Int64},N} where N\u001b[1m)\u001b[22m\u001b[22m at \u001b[1m./asyncmap.jl:103\u001b[22m\u001b[22m",
      " [6] \u001b[1m(::Base.#kw##async_usemap)\u001b[22m\u001b[22m\u001b[1m(\u001b[22m\u001b[22m::Array{Any,1}, ::Base.#async_usemap, ::Function, ::UnitRange{Int64}, ::Vararg{UnitRange{Int64},N} where N\u001b[1m)\u001b[22m\u001b[22m at \u001b[1m./<missing>:0\u001b[22m\u001b[22m",
      " [7] \u001b[1m(::Base.#kw##asyncmap)\u001b[22m\u001b[22m\u001b[1m(\u001b[22m\u001b[22m::Array{Any,1}, ::Base.#asyncmap, ::Function, ::UnitRange{Int64}\u001b[1m)\u001b[22m\u001b[22m at \u001b[1m./<missing>:0\u001b[22m\u001b[22m",
      " [8] \u001b[1m#pmap#203\u001b[22m\u001b[22m\u001b[1m(\u001b[22m\u001b[22m::Bool, ::Int64, ::Void, ::Array{Any,1}, ::Void, ::Function, ::WorkerPool, ::Function, ::UnitRange{Int64}\u001b[1m)\u001b[22m\u001b[22m at \u001b[1m./distributed/pmap.jl:126\u001b[22m\u001b[22m",
      " [9] \u001b[1mpmap\u001b[22m\u001b[22m\u001b[1m(\u001b[22m\u001b[22m::WorkerPool, ::Function, ::UnitRange{Int64}\u001b[1m)\u001b[22m\u001b[22m at \u001b[1m./distributed/pmap.jl:101\u001b[22m\u001b[22m",
      " [10] \u001b[1m#pmap#213\u001b[22m\u001b[22m\u001b[1m(\u001b[22m\u001b[22m::Array{Any,1}, ::Function, ::Function, ::UnitRange{Int64}\u001b[1m)\u001b[22m\u001b[22m at \u001b[1m./distributed/pmap.jl:156\u001b[22m\u001b[22m",
      " [11] \u001b[1mpmap\u001b[22m\u001b[22m\u001b[1m(\u001b[22m\u001b[22m::Function, ::UnitRange{Int64}\u001b[1m)\u001b[22m\u001b[22m at \u001b[1m./distributed/pmap.jl:156\u001b[22m\u001b[22m",
      " [12] \u001b[1minclude_string\u001b[22m\u001b[22m\u001b[1m(\u001b[22m\u001b[22m::String, ::String\u001b[1m)\u001b[22m\u001b[22m at \u001b[1m./loading.jl:522\u001b[22m\u001b[22m"
     ]
    }
   ],
   "source": [
    "@time pmap(loop, 1:len)\n",
    ";"
   ]
  }
 ],
 "metadata": {
  "kernelspec": {
   "display_name": "Julia 0.6.2",
   "language": "julia",
   "name": "julia-0.6"
  },
  "language_info": {
   "file_extension": ".jl",
   "mimetype": "application/julia",
   "name": "julia",
   "version": "0.6.2"
  }
 },
 "nbformat": 4,
 "nbformat_minor": 2
}
